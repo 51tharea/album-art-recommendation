{
  "nbformat": 4,
  "nbformat_minor": 0,
  "metadata": {
    "colab": {
      "name": "ALBUM_Feature_Extract.ipynb",
      "version": "0.3.2",
      "provenance": [],
      "collapsed_sections": []
    },
    "kernelspec": {
      "name": "python3",
      "display_name": "Python 3"
    },
    "accelerator": "GPU"
  },
  "cells": [
    {
      "cell_type": "code",
      "metadata": {
        "id": "ZIs8YeM04PUq",
        "colab_type": "code",
        "colab": {}
      },
      "source": [
        "mkdir images"
      ],
      "execution_count": 0,
      "outputs": []
    },
    {
      "cell_type": "code",
      "metadata": {
        "id": "FiKYaYw34csa",
        "colab_type": "code",
        "colab": {}
      },
      "source": [
        "mv images.zip images/"
      ],
      "execution_count": 0,
      "outputs": []
    },
    {
      "cell_type": "code",
      "metadata": {
        "id": "R4AxQP4bNusu",
        "colab_type": "code",
        "colab": {
          "base_uri": "https://localhost:8080/",
          "height": 34
        },
        "outputId": "5fca840f-60e9-4deb-829a-69b3f45554d2"
      },
      "source": [
        "cd images"
      ],
      "execution_count": 3,
      "outputs": [
        {
          "output_type": "stream",
          "text": [
            "/content/images\n"
          ],
          "name": "stdout"
        }
      ]
    },
    {
      "cell_type": "code",
      "metadata": {
        "id": "YZVQC-Pu4hYt",
        "colab_type": "code",
        "colab": {}
      },
      "source": [
        "!unzip images.zip"
      ],
      "execution_count": 0,
      "outputs": []
    },
    {
      "cell_type": "code",
      "metadata": {
        "id": "RddqB0faOAO7",
        "colab_type": "code",
        "colab": {}
      },
      "source": [
        "rm images.zip"
      ],
      "execution_count": 0,
      "outputs": []
    },
    {
      "cell_type": "code",
      "metadata": {
        "id": "Cl8JYev_5Pf0",
        "colab_type": "code",
        "colab": {
          "base_uri": "https://localhost:8080/",
          "height": 34
        },
        "outputId": "da7d8904-411f-45f2-89ff-3804fc02661e"
      },
      "source": [
        "cd .."
      ],
      "execution_count": 6,
      "outputs": [
        {
          "output_type": "stream",
          "text": [
            "/content\n"
          ],
          "name": "stdout"
        }
      ]
    },
    {
      "cell_type": "code",
      "metadata": {
        "id": "jtAKGTs4D4_F",
        "colab_type": "code",
        "outputId": "33ef58be-ffef-4a26-cdce-c16e09d52f52",
        "colab": {
          "base_uri": "https://localhost:8080/",
          "height": 34
        }
      },
      "source": [
        "import os \n",
        "import keras\n",
        "import numpy as np\n",
        "import matplotlib.pyplot as plt\n",
        "from keras.preprocessing import image\n",
        "from keras.applications.imagenet_utils import decode_predictions, preprocess_input\n",
        "from keras.models import Model\n",
        "from PIL import Image\n",
        "\n",
        "import random\n",
        "from scipy.spatial import distance"
      ],
      "execution_count": 7,
      "outputs": [
        {
          "output_type": "stream",
          "text": [
            "Using TensorFlow backend.\n"
          ],
          "name": "stderr"
        }
      ]
    },
    {
      "cell_type": "code",
      "metadata": {
        "id": "NVu7FV3WnBgz",
        "colab_type": "code",
        "colab": {
          "base_uri": "https://localhost:8080/",
          "height": 122
        },
        "outputId": "c9bd1151-beb0-4657-b60e-35d7fc92f31d"
      },
      "source": [
        "model = keras.applications.VGG16(weights='imagenet', include_top=True)"
      ],
      "execution_count": 8,
      "outputs": [
        {
          "output_type": "stream",
          "text": [
            "WARNING:tensorflow:From /usr/local/lib/python3.6/dist-packages/tensorflow/python/framework/op_def_library.py:263: colocate_with (from tensorflow.python.framework.ops) is deprecated and will be removed in a future version.\n",
            "Instructions for updating:\n",
            "Colocations handled automatically by placer.\n",
            "Downloading data from https://github.com/fchollet/deep-learning-models/releases/download/v0.1/vgg16_weights_tf_dim_ordering_tf_kernels.h5\n",
            "553467904/553467096 [==============================] - 6s 0us/step\n"
          ],
          "name": "stdout"
        }
      ]
    },
    {
      "cell_type": "code",
      "metadata": {
        "id": "U8BU3mPQnr91",
        "colab_type": "code",
        "colab": {
          "base_uri": "https://localhost:8080/",
          "height": 918
        },
        "outputId": "f6f5b1de-7a41-4abe-e3a1-35ae7789f982"
      },
      "source": [
        "model.summary()"
      ],
      "execution_count": 9,
      "outputs": [
        {
          "output_type": "stream",
          "text": [
            "_________________________________________________________________\n",
            "Layer (type)                 Output Shape              Param #   \n",
            "=================================================================\n",
            "input_1 (InputLayer)         (None, 224, 224, 3)       0         \n",
            "_________________________________________________________________\n",
            "block1_conv1 (Conv2D)        (None, 224, 224, 64)      1792      \n",
            "_________________________________________________________________\n",
            "block1_conv2 (Conv2D)        (None, 224, 224, 64)      36928     \n",
            "_________________________________________________________________\n",
            "block1_pool (MaxPooling2D)   (None, 112, 112, 64)      0         \n",
            "_________________________________________________________________\n",
            "block2_conv1 (Conv2D)        (None, 112, 112, 128)     73856     \n",
            "_________________________________________________________________\n",
            "block2_conv2 (Conv2D)        (None, 112, 112, 128)     147584    \n",
            "_________________________________________________________________\n",
            "block2_pool (MaxPooling2D)   (None, 56, 56, 128)       0         \n",
            "_________________________________________________________________\n",
            "block3_conv1 (Conv2D)        (None, 56, 56, 256)       295168    \n",
            "_________________________________________________________________\n",
            "block3_conv2 (Conv2D)        (None, 56, 56, 256)       590080    \n",
            "_________________________________________________________________\n",
            "block3_conv3 (Conv2D)        (None, 56, 56, 256)       590080    \n",
            "_________________________________________________________________\n",
            "block3_pool (MaxPooling2D)   (None, 28, 28, 256)       0         \n",
            "_________________________________________________________________\n",
            "block4_conv1 (Conv2D)        (None, 28, 28, 512)       1180160   \n",
            "_________________________________________________________________\n",
            "block4_conv2 (Conv2D)        (None, 28, 28, 512)       2359808   \n",
            "_________________________________________________________________\n",
            "block4_conv3 (Conv2D)        (None, 28, 28, 512)       2359808   \n",
            "_________________________________________________________________\n",
            "block4_pool (MaxPooling2D)   (None, 14, 14, 512)       0         \n",
            "_________________________________________________________________\n",
            "block5_conv1 (Conv2D)        (None, 14, 14, 512)       2359808   \n",
            "_________________________________________________________________\n",
            "block5_conv2 (Conv2D)        (None, 14, 14, 512)       2359808   \n",
            "_________________________________________________________________\n",
            "block5_conv3 (Conv2D)        (None, 14, 14, 512)       2359808   \n",
            "_________________________________________________________________\n",
            "block5_pool (MaxPooling2D)   (None, 7, 7, 512)         0         \n",
            "_________________________________________________________________\n",
            "flatten (Flatten)            (None, 25088)             0         \n",
            "_________________________________________________________________\n",
            "fc1 (Dense)                  (None, 4096)              102764544 \n",
            "_________________________________________________________________\n",
            "fc2 (Dense)                  (None, 4096)              16781312  \n",
            "_________________________________________________________________\n",
            "predictions (Dense)          (None, 1000)              4097000   \n",
            "=================================================================\n",
            "Total params: 138,357,544\n",
            "Trainable params: 138,357,544\n",
            "Non-trainable params: 0\n",
            "_________________________________________________________________\n"
          ],
          "name": "stdout"
        }
      ]
    },
    {
      "cell_type": "code",
      "metadata": {
        "id": "AUA7zBSPnv0k",
        "colab_type": "code",
        "colab": {}
      },
      "source": [
        "def load_image(path):\n",
        "  img = image.load_img(path, target_size=model.input_shape[1:3])\n",
        "  x = image.img_to_array(img)\n",
        "  x = np.expand_dims(x, axis=0)\n",
        "  x = preprocess_input(x)\n",
        "  return img, x"
      ],
      "execution_count": 0,
      "outputs": []
    },
    {
      "cell_type": "code",
      "metadata": {
        "id": "W9bYH290osKZ",
        "colab_type": "code",
        "colab": {
          "base_uri": "https://localhost:8080/",
          "height": 320
        },
        "outputId": "a9312d37-e04b-4019-c65c-9fefb373c7b5"
      },
      "source": [
        "img, x = load_image(\"images/0.jpeg\")\n",
        "print(\"shape of x: \", x.shape)\n",
        "print(\"data type: \", x.dtype)\n",
        "plt.imshow(img)"
      ],
      "execution_count": 11,
      "outputs": [
        {
          "output_type": "stream",
          "text": [
            "shape of x:  (1, 224, 224, 3)\n",
            "data type:  float32\n"
          ],
          "name": "stdout"
        },
        {
          "output_type": "execute_result",
          "data": {
            "text/plain": [
              "<matplotlib.image.AxesImage at 0x7ff708669b38>"
            ]
          },
          "metadata": {
            "tags": []
          },
          "execution_count": 11
        },
        {
          "output_type": "display_data",
          "data": {
            "image/png": "[encoded data removed]",
            "text/plain": [
              "<Figure size 432x288 with 1 Axes>"
            ]
          },
          "metadata": {
            "tags": []
          }
        }
      ]
    },
    {
      "cell_type": "code",
      "metadata": {
        "id": "Vnd0aDQgo6GJ",
        "colab_type": "code",
        "colab": {
          "base_uri": "https://localhost:8080/",
          "height": 156
        },
        "outputId": "68817547-5577-4204-bab8-693e6f12f270"
      },
      "source": [
        "predictions = model.predict(x)\n",
        "for _, pred, prob in decode_predictions(predictions)[0]:\n",
        "  print(\"predicted %s with a probabilty of %0.3f\" % (pred, prob))"
      ],
      "execution_count": 12,
      "outputs": [
        {
          "output_type": "stream",
          "text": [
            "Downloading data from https://storage.googleapis.com/download.tensorflow.org/data/imagenet_class_index.json\n",
            "40960/35363 [==================================] - 0s 0us/step\n",
            "predicted castle with a probabilty of 0.156\n",
            "predicted church with a probabilty of 0.128\n",
            "predicted beacon with a probabilty of 0.105\n",
            "predicted bell_cote with a probabilty of 0.079\n",
            "predicted monastery with a probabilty of 0.062\n"
          ],
          "name": "stdout"
        }
      ]
    },
    {
      "cell_type": "code",
      "metadata": {
        "id": "e1PCYnQXqRW8",
        "colab_type": "code",
        "colab": {
          "base_uri": "https://localhost:8080/",
          "height": 884
        },
        "outputId": "10ec0684-fed1-4028-e099-dc6365d38d04"
      },
      "source": [
        "feat_extractor = Model(inputs=model.input, outputs=model.get_layer(\"fc2\").output)\n",
        "feat_extractor.summary()"
      ],
      "execution_count": 13,
      "outputs": [
        {
          "output_type": "stream",
          "text": [
            "_________________________________________________________________\n",
            "Layer (type)                 Output Shape              Param #   \n",
            "=================================================================\n",
            "input_1 (InputLayer)         (None, 224, 224, 3)       0         \n",
            "_________________________________________________________________\n",
            "block1_conv1 (Conv2D)        (None, 224, 224, 64)      1792      \n",
            "_________________________________________________________________\n",
            "block1_conv2 (Conv2D)        (None, 224, 224, 64)      36928     \n",
            "_________________________________________________________________\n",
            "block1_pool (MaxPooling2D)   (None, 112, 112, 64)      0         \n",
            "_________________________________________________________________\n",
            "block2_conv1 (Conv2D)        (None, 112, 112, 128)     73856     \n",
            "_________________________________________________________________\n",
            "block2_conv2 (Conv2D)        (None, 112, 112, 128)     147584    \n",
            "_________________________________________________________________\n",
            "block2_pool (MaxPooling2D)   (None, 56, 56, 128)       0         \n",
            "_________________________________________________________________\n",
            "block3_conv1 (Conv2D)        (None, 56, 56, 256)       295168    \n",
            "_________________________________________________________________\n",
            "block3_conv2 (Conv2D)        (None, 56, 56, 256)       590080    \n",
            "_________________________________________________________________\n",
            "block3_conv3 (Conv2D)        (None, 56, 56, 256)       590080    \n",
            "_________________________________________________________________\n",
            "block3_pool (MaxPooling2D)   (None, 28, 28, 256)       0         \n",
            "_________________________________________________________________\n",
            "block4_conv1 (Conv2D)        (None, 28, 28, 512)       1180160   \n",
            "_________________________________________________________________\n",
            "block4_conv2 (Conv2D)        (None, 28, 28, 512)       2359808   \n",
            "_________________________________________________________________\n",
            "block4_conv3 (Conv2D)        (None, 28, 28, 512)       2359808   \n",
            "_________________________________________________________________\n",
            "block4_pool (MaxPooling2D)   (None, 14, 14, 512)       0         \n",
            "_________________________________________________________________\n",
            "block5_conv1 (Conv2D)        (None, 14, 14, 512)       2359808   \n",
            "_________________________________________________________________\n",
            "block5_conv2 (Conv2D)        (None, 14, 14, 512)       2359808   \n",
            "_________________________________________________________________\n",
            "block5_conv3 (Conv2D)        (None, 14, 14, 512)       2359808   \n",
            "_________________________________________________________________\n",
            "block5_pool (MaxPooling2D)   (None, 7, 7, 512)         0         \n",
            "_________________________________________________________________\n",
            "flatten (Flatten)            (None, 25088)             0         \n",
            "_________________________________________________________________\n",
            "fc1 (Dense)                  (None, 4096)              102764544 \n",
            "_________________________________________________________________\n",
            "fc2 (Dense)                  (None, 4096)              16781312  \n",
            "=================================================================\n",
            "Total params: 134,260,544\n",
            "Trainable params: 134,260,544\n",
            "Non-trainable params: 0\n",
            "_________________________________________________________________\n"
          ],
          "name": "stdout"
        }
      ]
    },
    {
      "cell_type": "code",
      "metadata": {
        "id": "ov3d3h8Bqg0o",
        "colab_type": "code",
        "colab": {
          "base_uri": "https://localhost:8080/",
          "height": 306
        },
        "outputId": "953303fb-5e66-4657-a180-f2ee4f641150"
      },
      "source": [
        "img,x = load_image(\"images/0.jpeg\")\n",
        "feat = feat_extractor.predict(x)\n",
        "\n",
        "plt.figure(figsize=(16,4))\n",
        "plt.plot(feat[0])"
      ],
      "execution_count": 14,
      "outputs": [
        {
          "output_type": "execute_result",
          "data": {
            "text/plain": [
              "[<matplotlib.lines.Line2D at 0x7ff7085d7a90>]"
            ]
          },
          "metadata": {
            "tags": []
          },
          "execution_count": 14
        },
        {
          "output_type": "display_data",
          "data": {
            "image/png": "[encoded data removed]",
            "text/plain": [
              "<Figure size 1152x288 with 1 Axes>"
            ]
          },
          "metadata": {
            "tags": []
          }
        }
      ]
    },
    {
      "cell_type": "code",
      "metadata": {
        "id": "xqy5Y34VsFLU",
        "colab_type": "code",
        "colab": {
          "base_uri": "https://localhost:8080/",
          "height": 54
        },
        "outputId": "1675d384-f2bc-4e4e-cb6c-e919a14ef5af"
      },
      "source": [
        "path = \"images\"\n",
        "images = []\n",
        "\n",
        "for img in sorted(os.listdir(path)):\n",
        "  img_path = os.path.join(path,img)\n",
        "  images.append(img_path)\n",
        "\n",
        "print(images)"
      ],
      "execution_count": 61,
      "outputs": [
        {
          "output_type": "stream",
          "text": [
            "['images/0.jpeg', 'images/1.jpeg', 'images/10.jpeg', 'images/100.jpeg', 'images/101.jpeg', 'images/102.jpeg', 'images/103.jpeg', 'images/104.jpeg', 'images/105.jpeg', 'images/106.jpeg', 'images/107.jpeg', 'images/108.jpeg', 'images/109.jpeg', 'images/11.jpeg', 'images/110.jpeg', 'images/111.jpeg', 'images/112.jpeg', 'images/113.jpeg', 'images/114.jpeg', 'images/115.jpeg', 'images/116.jpeg', 'images/117.jpeg', 'images/118.jpeg', 'images/119.jpeg', 'images/12.jpeg', 'images/120.jpeg', 'images/121.jpeg', 'images/122.jpeg', 'images/123.jpeg', 'images/124.jpeg', 'images/125.jpeg', 'images/126.jpeg', 'images/127.jpeg', 'images/128.jpeg', 'images/129.jpeg', 'images/13.jpeg', 'images/130.jpeg', 'images/131.jpeg', 'images/132.jpeg', 'images/133.jpeg', 'images/134.jpeg', 'images/135.jpeg', 'images/136.jpeg', 'images/137.jpeg', 'images/138.jpeg', 'images/139.jpeg', 'images/14.jpeg', 'images/140.jpeg', 'images/141.jpeg', 'images/142.jpeg', 'images/143.jpeg', 'images/144.jpeg', 'images/145.jpeg', 'images/146.jpeg', 'images/147.jpeg', 'images/148.jpeg', 'images/149.jpeg', 'images/15.jpeg', 'images/150.jpeg', 'images/151.jpeg', 'images/152.jpeg', 'images/153.jpeg', 'images/154.jpeg', 'images/155.jpeg', 'images/156.jpeg', 'images/157.jpeg', 'images/158.jpeg', 'images/159.jpeg', 'images/16.jpeg', 'images/160.jpeg', 'images/161.jpeg', 'images/162.jpeg', 'images/163.jpeg', 'images/164.jpeg', 'images/165.jpeg', 'images/166.jpeg', 'images/167.jpeg', 'images/168.jpeg', 'images/169.jpeg', 'images/17.jpeg', 'images/170.jpeg', 'images/171.jpeg', 'images/172.jpeg', 'images/173.jpeg', 'images/174.jpeg', 'images/175.jpeg', 'images/176.jpeg', 'images/177.jpeg', 'images/178.jpeg', 'images/179.jpeg', 'images/18.jpeg', 'images/180.jpeg', 'images/181.jpeg', 'images/182.jpeg', 'images/183.jpeg', 'images/184.jpeg', 'images/185.jpeg', 'images/186.jpeg', 'images/187.jpeg', 'images/188.jpeg', 'images/189.jpeg', 'images/19.jpeg', 'images/190.jpeg', 'images/191.jpeg', 'images/192.jpeg', 'images/193.jpeg', 'images/194.jpeg', 'images/195.jpeg', 'images/196.jpeg', 'images/197.jpeg', 'images/198.jpeg', 'images/199.jpeg', 'images/2.jpeg', 'images/20.jpeg', 'images/200.jpeg', 'images/201.jpeg', 'images/202.jpeg', 'images/203.jpeg', 'images/204.jpeg', 'images/205.jpeg', 'images/206.jpeg', 'images/207.jpeg', 'images/208.jpeg', 'images/209.jpeg', 'images/21.jpeg', 'images/210.jpeg', 'images/211.jpeg', 'images/212.jpeg', 'images/213.jpeg', 'images/214.jpeg', 'images/215.jpeg', 'images/216.jpeg', 'images/217.jpeg', 'images/218.jpeg', 'images/219.jpeg', 'images/22.jpeg', 'images/220.jpeg', 'images/221.jpeg', 'images/222.jpeg', 'images/223.jpeg', 'images/224.jpeg', 'images/225.jpeg', 'images/226.jpeg', 'images/227.jpeg', 'images/228.jpeg', 'images/229.jpeg', 'images/23.jpeg', 'images/230.jpeg', 'images/231.jpeg', 'images/232.jpeg', 'images/233.jpeg', 'images/234.jpeg', 'images/235.jpeg', 'images/236.jpeg', 'images/237.jpeg', 'images/238.jpeg', 'images/239.jpeg', 'images/24.jpeg', 'images/240.jpeg', 'images/241.jpeg', 'images/242.jpeg', 'images/243.jpeg', 'images/244.jpeg', 'images/245.jpeg', 'images/246.jpeg', 'images/247.jpeg', 'images/248.jpeg', 'images/249.jpeg', 'images/25.jpeg', 'images/250.jpeg', 'images/251.jpeg', 'images/252.jpeg', 'images/253.jpeg', 'images/254.jpeg', 'images/255.jpeg', 'images/256.jpeg', 'images/257.jpeg', 'images/258.jpeg', 'images/259.jpeg', 'images/26.jpeg', 'images/260.jpeg', 'images/261.jpeg', 'images/262.jpeg', 'images/263.jpeg', 'images/264.jpeg', 'images/265.jpeg', 'images/266.jpeg', 'images/267.jpeg', 'images/268.jpeg', 'images/269.jpeg', 'images/27.jpeg', 'images/270.jpeg', 'images/271.jpeg', 'images/272.jpeg', 'images/273.jpeg', 'images/274.jpeg', 'images/275.jpeg', 'images/276.jpeg', 'images/277.jpeg', 'images/278.jpeg', 'images/279.jpeg', 'images/28.jpeg', 'images/280.jpeg', 'images/281.jpeg', 'images/282.jpeg', 'images/283.jpeg', 'images/284.jpeg', 'images/285.jpeg', 'images/286.jpeg', 'images/287.jpeg', 'images/288.jpeg', 'images/289.jpeg', 'images/29.jpeg', 'images/290.jpeg', 'images/291.jpeg', 'images/292.jpeg', 'images/293.jpeg', 'images/294.jpeg', 'images/295.jpeg', 'images/296.jpeg', 'images/297.jpeg', 'images/298.jpeg', 'images/299.jpeg', 'images/3.jpeg', 'images/30.jpeg', 'images/300.jpeg', 'images/301.jpeg', 'images/302.jpeg', 'images/303.jpeg', 'images/304.jpeg', 'images/305.jpeg', 'images/306.jpeg', 'images/307.jpeg', 'images/308.jpeg', 'images/309.jpeg', 'images/31.jpeg', 'images/310.jpeg', 'images/311.jpeg', 'images/312.jpeg', 'images/313.jpeg', 'images/314.jpeg', 'images/315.jpeg', 'images/316.jpeg', 'images/317.jpeg', 'images/318.jpeg', 'images/319.jpeg', 'images/32.jpeg', 'images/320.jpeg', 'images/321.jpeg', 'images/322.jpeg', 'images/323.jpeg', 'images/324.jpeg', 'images/325.jpeg', 'images/326.jpeg', 'images/327.jpeg', 'images/328.jpeg', 'images/329.jpeg', 'images/33.jpeg', 'images/330.jpeg', 'images/331.jpeg', 'images/332.jpeg', 'images/333.jpeg', 'images/334.jpeg', 'images/335.jpeg', 'images/336.jpeg', 'images/337.jpeg', 'images/338.jpeg', 'images/339.jpeg', 'images/34.jpeg', 'images/340.jpeg', 'images/341.jpeg', 'images/342.jpeg', 'images/343.jpeg', 'images/344.jpeg', 'images/345.jpeg', 'images/346.jpeg', 'images/347.jpeg', 'images/348.jpeg', 'images/349.jpeg', 'images/35.jpeg', 'images/350.jpeg', 'images/351.jpeg', 'images/352.jpeg', 'images/353.jpeg', 'images/354.jpeg', 'images/355.jpeg', 'images/356.jpeg', 'images/357.jpeg', 'images/358.jpeg', 'images/359.jpeg', 'images/36.jpeg', 'images/360.jpeg', 'images/361.jpeg', 'images/362.jpeg', 'images/363.jpeg', 'images/364.jpeg', 'images/365.jpeg', 'images/366.jpeg', 'images/367.jpeg', 'images/368.jpeg', 'images/369.jpeg', 'images/37.jpeg', 'images/370.jpeg', 'images/371.jpeg', 'images/372.jpeg', 'images/373.jpeg', 'images/374.jpeg', 'images/375.jpeg', 'images/376.jpeg', 'images/377.jpeg', 'images/378.jpeg', 'images/379.jpeg', 'images/38.jpeg', 'images/380.jpeg', 'images/381.jpeg', 'images/382.jpeg', 'images/383.jpeg', 'images/384.jpeg', 'images/385.jpeg', 'images/386.jpeg', 'images/387.jpeg', 'images/388.jpeg', 'images/389.jpeg', 'images/39.jpeg', 'images/390.jpeg', 'images/391.jpeg', 'images/392.jpeg', 'images/393.jpeg', 'images/394.jpeg', 'images/395.jpeg', 'images/396.jpeg', 'images/397.jpeg', 'images/398.jpeg', 'images/399.jpeg', 'images/4.jpeg', 'images/40.jpeg', 'images/400.jpeg', 'images/401.jpeg', 'images/402.jpeg', 'images/403.jpeg', 'images/404.jpeg', 'images/405.jpeg', 'images/406.jpeg', 'images/407.jpeg', 'images/408.jpeg', 'images/409.jpeg', 'images/41.jpeg', 'images/410.jpeg', 'images/411.jpeg', 'images/412.jpeg', 'images/413.jpeg', 'images/414.jpeg', 'images/415.jpeg', 'images/416.jpeg', 'images/417.jpeg', 'images/418.jpeg', 'images/419.jpeg', 'images/42.jpeg', 'images/420.jpeg', 'images/421.jpeg', 'images/422.jpeg', 'images/423.jpeg', 'images/424.jpeg', 'images/425.jpeg', 'images/426.jpeg', 'images/427.jpeg', 'images/428.jpeg', 'images/429.jpeg', 'images/43.jpeg', 'images/430.jpeg', 'images/431.jpeg', 'images/432.jpeg', 'images/433.jpeg', 'images/434.jpeg', 'images/435.jpeg', 'images/436.jpeg', 'images/437.jpeg', 'images/438.jpeg', 'images/439.jpeg', 'images/44.jpeg', 'images/440.jpeg', 'images/441.jpeg', 'images/442.jpeg', 'images/443.jpeg', 'images/444.jpeg', 'images/445.jpeg', 'images/446.jpeg', 'images/447.jpeg', 'images/448.jpeg', 'images/449.jpeg', 'images/45.jpeg', 'images/450.jpeg', 'images/451.jpeg', 'images/452.jpeg', 'images/453.jpeg', 'images/454.jpeg', 'images/455.jpeg', 'images/456.jpeg', 'images/457.jpeg', 'images/458.jpeg', 'images/459.jpeg', 'images/46.jpeg', 'images/460.jpeg', 'images/461.jpeg', 'images/462.jpeg', 'images/463.jpeg', 'images/464.jpeg', 'images/465.jpeg', 'images/466.jpeg', 'images/467.jpeg', 'images/468.jpeg', 'images/469.jpeg', 'images/47.jpeg', 'images/470.jpeg', 'images/471.jpeg', 'images/472.jpeg', 'images/473.jpeg', 'images/474.jpeg', 'images/475.jpeg', 'images/476.jpeg', 'images/477.jpeg', 'images/478.jpeg', 'images/479.jpeg', 'images/48.jpeg', 'images/480.jpeg', 'images/481.jpeg', 'images/482.jpeg', 'images/483.jpeg', 'images/484.jpeg', 'images/485.jpeg', 'images/486.jpeg', 'images/487.jpeg', 'images/488.jpeg', 'images/489.jpeg', 'images/49.jpeg', 'images/490.jpeg', 'images/491.jpeg', 'images/492.jpeg', 'images/493.jpeg', 'images/494.jpeg', 'images/495.jpeg', 'images/496.jpeg', 'images/497.jpeg', 'images/498.jpeg', 'images/499.jpeg', 'images/5.jpeg', 'images/50.jpeg', 'images/500.jpeg', 'images/501.jpeg', 'images/502.jpeg', 'images/503.jpeg', 'images/504.jpeg', 'images/505.jpeg', 'images/506.jpeg', 'images/507.jpeg', 'images/508.jpeg', 'images/509.jpeg', 'images/51.jpeg', 'images/510.jpeg', 'images/511.jpeg', 'images/512.jpeg', 'images/513.jpeg', 'images/514.jpeg', 'images/515.jpeg', 'images/516.jpeg', 'images/517.jpeg', 'images/518.jpeg', 'images/519.jpeg', 'images/52.jpeg', 'images/520.jpeg', 'images/521.jpeg', 'images/522.jpeg', 'images/523.jpeg', 'images/524.jpeg', 'images/525.jpeg', 'images/526.jpeg', 'images/527.jpeg', 'images/528.jpeg', 'images/529.jpeg', 'images/53.jpeg', 'images/530.jpeg', 'images/531.jpeg', 'images/532.jpeg', 'images/533.jpeg', 'images/534.jpeg', 'images/535.jpeg', 'images/536.jpeg', 'images/537.jpeg', 'images/538.jpeg', 'images/539.jpeg', 'images/54.jpeg', 'images/540.jpeg', 'images/541.jpeg', 'images/542.jpeg', 'images/543.jpeg', 'images/544.jpeg', 'images/545.jpeg', 'images/546.jpeg', 'images/547.jpeg', 'images/548.jpeg', 'images/549.jpeg', 'images/55.jpeg', 'images/550.jpeg', 'images/551.jpeg', 'images/552.jpeg', 'images/553.jpeg', 'images/554.jpeg', 'images/555.jpeg', 'images/556.jpeg', 'images/557.jpeg', 'images/558.jpeg', 'images/559.jpeg', 'images/56.jpeg', 'images/560.jpeg', 'images/561.jpeg', 'images/562.jpeg', 'images/563.jpeg', 'images/564.jpeg', 'images/565.jpeg', 'images/566.jpeg', 'images/567.jpeg', 'images/568.jpeg', 'images/569.jpeg', 'images/57.jpeg', 'images/570.jpeg', 'images/571.jpeg', 'images/572.jpeg', 'images/573.jpeg', 'images/574.jpeg', 'images/575.jpeg', 'images/576.jpeg', 'images/577.jpeg', 'images/578.jpeg', 'images/579.jpeg', 'images/58.jpeg', 'images/580.jpeg', 'images/581.jpeg', 'images/582.jpeg', 'images/583.jpeg', 'images/584.jpeg', 'images/585.jpeg', 'images/586.jpeg', 'images/587.jpeg', 'images/588.jpeg', 'images/589.jpeg', 'images/59.jpeg', 'images/590.jpeg', 'images/591.jpeg', 'images/592.jpeg', 'images/593.jpeg', 'images/594.jpeg', 'images/595.jpeg', 'images/596.jpeg', 'images/597.jpeg', 'images/598.jpeg', 'images/599.jpeg', 'images/6.jpeg', 'images/60.jpeg', 'images/600.jpeg', 'images/601.jpeg', 'images/602.jpeg', 'images/603.jpeg', 'images/604.jpeg', 'images/605.jpeg', 'images/606.jpeg', 'images/607.jpeg', 'images/608.jpeg', 'images/609.jpeg', 'images/61.jpeg', 'images/610.jpeg', 'images/611.jpeg', 'images/612.jpeg', 'images/613.jpeg', 'images/614.jpeg', 'images/615.jpeg', 'images/616.jpeg', 'images/617.jpeg', 'images/618.jpeg', 'images/619.jpeg', 'images/62.jpeg', 'images/620.jpeg', 'images/621.jpeg', 'images/622.jpeg', 'images/623.jpeg', 'images/624.jpeg', 'images/625.jpeg', 'images/626.jpeg', 'images/627.jpeg', 'images/628.jpeg', 'images/629.jpeg', 'images/63.jpeg', 'images/630.jpeg', 'images/631.jpeg', 'images/632.jpeg', 'images/64.jpeg', 'images/65.jpeg', 'images/66.jpeg', 'images/67.jpeg', 'images/68.jpeg', 'images/69.jpeg', 'images/7.jpeg', 'images/70.jpeg', 'images/71.jpeg', 'images/72.jpeg', 'images/73.jpeg', 'images/74.jpeg', 'images/75.jpeg', 'images/76.jpeg', 'images/77.jpeg', 'images/78.jpeg', 'images/79.jpeg', 'images/8.jpeg', 'images/80.jpeg', 'images/81.jpeg', 'images/82.jpeg', 'images/83.jpeg', 'images/84.jpeg', 'images/85.jpeg', 'images/86.jpeg', 'images/87.jpeg', 'images/88.jpeg', 'images/89.jpeg', 'images/9.jpeg', 'images/90.jpeg', 'images/91.jpeg', 'images/92.jpeg', 'images/93.jpeg', 'images/94.jpeg', 'images/95.jpeg', 'images/96.jpeg', 'images/97.jpeg', 'images/98.jpeg', 'images/99.jpeg']\n"
          ],
          "name": "stdout"
        }
      ]
    },
    {
      "cell_type": "code",
      "metadata": {
        "id": "fx0ooNtd9iCE",
        "colab_type": "code",
        "colab": {}
      },
      "source": [
        "features = []\n",
        "\n",
        "for img in images:\n",
        "  img,x = load_image(img)\n",
        "  feat = feat_extractor.predict(x)[0]\n",
        "  features.append(feat)"
      ],
      "execution_count": 0,
      "outputs": []
    },
    {
      "cell_type": "code",
      "metadata": {
        "id": "pA5W9P98Uly0",
        "colab_type": "code",
        "colab": {
          "base_uri": "https://localhost:8080/",
          "height": 71
        },
        "outputId": "c50792ac-d6f8-4950-ee8f-2a80fb613dae"
      },
      "source": [
        "from sklearn.decomposition import PCA\n",
        "\n",
        "features = np.array(features)\n",
        "pca = PCA(n_components=300)\n",
        "pca.fit(features)"
      ],
      "execution_count": 63,
      "outputs": [
        {
          "output_type": "execute_result",
          "data": {
            "text/plain": [
              "PCA(copy=True, iterated_power='auto', n_components=300, random_state=None,\n",
              "    svd_solver='auto', tol=0.0, whiten=False)"
            ]
          },
          "metadata": {
            "tags": []
          },
          "execution_count": 63
        }
      ]
    },
    {
      "cell_type": "code",
      "metadata": {
        "id": "U1059cm-U_h4",
        "colab_type": "code",
        "colab": {}
      },
      "source": [
        "pca_features = pca.transform(features)"
      ],
      "execution_count": 0,
      "outputs": []
    },
    {
      "cell_type": "code",
      "metadata": {
        "id": "hECYgO2Ey80o",
        "colab_type": "code",
        "colab": {}
      },
      "source": [
        "def select_image(img_bank):\n",
        "  \n",
        "  query_image_idx = 0\n",
        "  \n",
        "  img = image.load_img(img_bank[query_image_idx])\n",
        "  plt.imshow(img)\n",
        "  \n",
        "  return query_image_idx"
      ],
      "execution_count": 0,
      "outputs": []
    },
    {
      "cell_type": "code",
      "metadata": {
        "id": "krgDc97ezUCF",
        "colab_type": "code",
        "colab": {}
      },
      "source": [
        "def find_similar(idx, img_bank):\n",
        "  \n",
        "  similar_idx = [distance.cosine(pca_features[idx], feat) for feat in pca_features]\n",
        "  idx_closest = sorted(range(len(similar_idx)), key=lambda k: similar_idx[k])[1:6]\n",
        "  \n",
        "  thumbs = []\n",
        "  for i in idx_closest:\n",
        "    img = image.load_img(img_bank[i])\n",
        "    img.resize((int(img.width * 100 / img.height), 100))\n",
        "    thumbs.append(img)\n",
        "  \n",
        "  concat_image = np.concatenate([np.asarray(t) for t in thumbs], axis=1)\n",
        "\n",
        "\n",
        "  plt.figure(figsize = (16,12))\n",
        "  plt.imshow(concat_image)"
      ],
      "execution_count": 0,
      "outputs": []
    },
    {
      "cell_type": "code",
      "metadata": {
        "id": "toJ5ISIv0WCr",
        "colab_type": "code",
        "colab": {
          "base_uri": "https://localhost:8080/",
          "height": 502
        },
        "outputId": "761692ac-3a62-45c3-8e7d-48379cf1f686"
      },
      "source": [
        "query = select_image(images)\n",
        "find_similar(query, images)"
      ],
      "execution_count": 68,
      "outputs": [
        {
          "output_type": "display_data",
          "data": {
            "image/png": "[encoded data removed]",
            "text/plain": [
              "<Figure size 432x288 with 1 Axes>"
            ]
          },
          "metadata": {
            "tags": []
          }
        },
        {
          "output_type": "display_data",
          "data": {
            "image/png": "[encoded data removed]",
            "text/plain": [
              "<Figure size 1152x864 with 1 Axes>"
            ]
          },
          "metadata": {
            "tags": []
          }
        }
      ]
    },
    {
      "cell_type": "code",
      "metadata": {
        "id": "zisHYjFlndAM",
        "colab_type": "code",
        "colab": {}
      },
      "source": [
        "from google.colab import files"
      ],
      "execution_count": 0,
      "outputs": []
    },
    {
      "cell_type": "code",
      "metadata": {
        "id": "IAk_gLywosZC",
        "colab_type": "code",
        "colab": {}
      },
      "source": [
        "np.save('album_pca_features', pca_features)"
      ],
      "execution_count": 0,
      "outputs": []
    },
    {
      "cell_type": "code",
      "metadata": {
        "id": "zUhVRRyGpTQj",
        "colab_type": "code",
        "colab": {}
      },
      "source": [
        "files.download('album_pca_features.npy')"
      ],
      "execution_count": 0,
      "outputs": []
    }
  ]
}
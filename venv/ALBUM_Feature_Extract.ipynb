{
  "nbformat": 4,
  "nbformat_minor": 0,
  "metadata": {
    "colab": {
      "name": "ALBUM_Feature_Extract.ipynb",
      "version": "0.3.2",
      "provenance": [],
      "collapsed_sections": []
    },
    "kernelspec": {
      "name": "python3",
      "display_name": "Python 3"
    },
    "accelerator": "GPU"
  },
  "cells": [
    {
      "cell_type": "code",
      "metadata": {
        "id": "ZIs8YeM04PUq",
        "colab_type": "code",
        "colab": {
          "base_uri": "https://localhost:8080/",
          "height": 34
        },
        "outputId": "e91000c0-bcc3-4a32-c125-d5e9f0d08797"
      },
      "source": [
        "mkdir images"
      ],
      "execution_count": 30,
      "outputs": [
        {
          "output_type": "stream",
          "text": [
            "mkdir: cannot create directory ‘images’: File exists\n"
          ],
          "name": "stdout"
        }
      ]
    },
    {
      "cell_type": "code",
      "metadata": {
        "id": "FiKYaYw34csa",
        "colab_type": "code",
        "colab": {}
      },
      "source": [
        "mv images.zip images/"
      ],
      "execution_count": 0,
      "outputs": []
    },
    {
      "cell_type": "code",
      "metadata": {
        "id": "R4AxQP4bNusu",
        "colab_type": "code",
        "colab": {
          "base_uri": "https://localhost:8080/",
          "height": 34
        },
        "outputId": "0e83715e-ab2a-4b80-9246-467a9939e130"
      },
      "source": [
        "cd images"
      ],
      "execution_count": 32,
      "outputs": [
        {
          "output_type": "stream",
          "text": [
            "/content/images\n"
          ],
          "name": "stdout"
        }
      ]
    },
    {
      "cell_type": "code",
      "metadata": {
        "id": "YZVQC-Pu4hYt",
        "colab_type": "code",
        "colab": {
          "base_uri": "https://localhost:8080/",
          "height": 10795
        },
        "outputId": "95b97114-76cc-4303-b40d-f868afb5baba"
      },
      "source": [
        "!unzip images.zip"
      ],
      "execution_count": 33,
      "outputs": [
        {
          "output_type": "stream",
          "text": [
            "Archive:  images.zip\n",
            "  inflating: 0.jpeg                  \n",
            "  inflating: 1.jpeg                  \n",
            "  inflating: 10.jpeg                 \n",
            "  inflating: 100.jpeg                \n",
            "  inflating: 101.jpeg                \n",
            "  inflating: 102.jpeg                \n",
            "  inflating: 103.jpeg                \n",
            "  inflating: 104.jpeg                \n",
            "  inflating: 105.jpeg                \n",
            "  inflating: 106.jpeg                \n",
            "  inflating: 107.jpeg                \n",
            "  inflating: 108.jpeg                \n",
            "  inflating: 109.jpeg                \n",
            "  inflating: 11.jpeg                 \n",
            "  inflating: 110.jpeg                \n",
            "  inflating: 111.jpeg                \n",
            "  inflating: 112.jpeg                \n",
            "  inflating: 113.jpeg                \n",
            "  inflating: 114.jpeg                \n",
            "  inflating: 115.jpeg                \n",
            "  inflating: 116.jpeg                \n",
            "  inflating: 117.jpeg                \n",
            "  inflating: 118.jpeg                \n",
            "  inflating: 119.jpeg                \n",
            "  inflating: 12.jpeg                 \n",
            "  inflating: 120.jpeg                \n",
            "  inflating: 121.jpeg                \n",
            "  inflating: 122.jpeg                \n",
            "  inflating: 123.jpeg                \n",
            "  inflating: 124.jpeg                \n",
            "  inflating: 125.jpeg                \n",
            "  inflating: 126.jpeg                \n",
            "  inflating: 127.jpeg                \n",
            "  inflating: 128.jpeg                \n",
            "  inflating: 129.jpeg                \n",
            "  inflating: 13.jpeg                 \n",
            "  inflating: 130.jpeg                \n",
            "  inflating: 131.jpeg                \n",
            "  inflating: 132.jpeg                \n",
            "  inflating: 133.jpeg                \n",
            "  inflating: 134.jpeg                \n",
            "  inflating: 135.jpeg                \n",
            "  inflating: 136.jpeg                \n",
            "  inflating: 137.jpeg                \n",
            "  inflating: 138.jpeg                \n",
            "  inflating: 139.jpeg                \n",
            "  inflating: 14.jpeg                 \n",
            "  inflating: 140.jpeg                \n",
            "  inflating: 141.jpeg                \n",
            "  inflating: 142.jpeg                \n",
            "  inflating: 143.jpeg                \n",
            "  inflating: 144.jpeg                \n",
            "  inflating: 145.jpeg                \n",
            "  inflating: 146.jpeg                \n",
            "  inflating: 147.jpeg                \n",
            "  inflating: 148.jpeg                \n",
            "  inflating: 149.jpeg                \n",
            "  inflating: 15.jpeg                 \n",
            "  inflating: 150.jpeg                \n",
            "  inflating: 151.jpeg                \n",
            "  inflating: 152.jpeg                \n",
            "  inflating: 153.jpeg                \n",
            "  inflating: 154.jpeg                \n",
            "  inflating: 155.jpeg                \n",
            "  inflating: 156.jpeg                \n",
            "  inflating: 157.jpeg                \n",
            "  inflating: 158.jpeg                \n",
            "  inflating: 159.jpeg                \n",
            "  inflating: 16.jpeg                 \n",
            "  inflating: 160.jpeg                \n",
            "  inflating: 161.jpeg                \n",
            "  inflating: 162.jpeg                \n",
            "  inflating: 163.jpeg                \n",
            "  inflating: 164.jpeg                \n",
            "  inflating: 165.jpeg                \n",
            "  inflating: 166.jpeg                \n",
            "  inflating: 167.jpeg                \n",
            "  inflating: 168.jpeg                \n",
            "  inflating: 169.jpeg                \n",
            "  inflating: 17.jpeg                 \n",
            "  inflating: 170.jpeg                \n",
            "  inflating: 171.jpeg                \n",
            "  inflating: 172.jpeg                \n",
            "  inflating: 173.jpeg                \n",
            "  inflating: 174.jpeg                \n",
            "  inflating: 175.jpeg                \n",
            "  inflating: 176.jpeg                \n",
            "  inflating: 177.jpeg                \n",
            "  inflating: 178.jpeg                \n",
            "  inflating: 179.jpeg                \n",
            "  inflating: 18.jpeg                 \n",
            "  inflating: 180.jpeg                \n",
            "  inflating: 181.jpeg                \n",
            "  inflating: 182.jpeg                \n",
            "  inflating: 183.jpeg                \n",
            "  inflating: 184.jpeg                \n",
            "  inflating: 185.jpeg                \n",
            "  inflating: 186.jpeg                \n",
            "  inflating: 187.jpeg                \n",
            "  inflating: 188.jpeg                \n",
            "  inflating: 189.jpeg                \n",
            "  inflating: 19.jpeg                 \n",
            "  inflating: 190.jpeg                \n",
            "  inflating: 191.jpeg                \n",
            "  inflating: 192.jpeg                \n",
            "  inflating: 193.jpeg                \n",
            "  inflating: 194.jpeg                \n",
            "  inflating: 195.jpeg                \n",
            "  inflating: 196.jpeg                \n",
            "  inflating: 197.jpeg                \n",
            "  inflating: 198.jpeg                \n",
            "  inflating: 199.jpeg                \n",
            "  inflating: 2.jpeg                  \n",
            "  inflating: 20.jpeg                 \n",
            "  inflating: 200.jpeg                \n",
            "  inflating: 201.jpeg                \n",
            "  inflating: 202.jpeg                \n",
            "  inflating: 203.jpeg                \n",
            "  inflating: 204.jpeg                \n",
            "  inflating: 205.jpeg                \n",
            "  inflating: 206.jpeg                \n",
            "  inflating: 207.jpeg                \n",
            "  inflating: 208.jpeg                \n",
            "  inflating: 209.jpeg                \n",
            "  inflating: 21.jpeg                 \n",
            "  inflating: 210.jpeg                \n",
            "  inflating: 211.jpeg                \n",
            "  inflating: 212.jpeg                \n",
            "  inflating: 213.jpeg                \n",
            "  inflating: 214.jpeg                \n",
            "  inflating: 215.jpeg                \n",
            "  inflating: 216.jpeg                \n",
            "  inflating: 217.jpeg                \n",
            "  inflating: 218.jpeg                \n",
            "  inflating: 219.jpeg                \n",
            "  inflating: 22.jpeg                 \n",
            "  inflating: 220.jpeg                \n",
            "  inflating: 221.jpeg                \n",
            "  inflating: 222.jpeg                \n",
            "  inflating: 223.jpeg                \n",
            "  inflating: 224.jpeg                \n",
            "  inflating: 225.jpeg                \n",
            "  inflating: 226.jpeg                \n",
            "  inflating: 227.jpeg                \n",
            "  inflating: 228.jpeg                \n",
            "  inflating: 229.jpeg                \n",
            "  inflating: 23.jpeg                 \n",
            "  inflating: 230.jpeg                \n",
            "  inflating: 231.jpeg                \n",
            "  inflating: 232.jpeg                \n",
            "  inflating: 233.jpeg                \n",
            "  inflating: 234.jpeg                \n",
            "  inflating: 235.jpeg                \n",
            "  inflating: 236.jpeg                \n",
            "  inflating: 237.jpeg                \n",
            "  inflating: 238.jpeg                \n",
            "  inflating: 239.jpeg                \n",
            "  inflating: 24.jpeg                 \n",
            "  inflating: 240.jpeg                \n",
            "  inflating: 241.jpeg                \n",
            "  inflating: 242.jpeg                \n",
            "  inflating: 243.jpeg                \n",
            "  inflating: 244.jpeg                \n",
            "  inflating: 245.jpeg                \n",
            "  inflating: 246.jpeg                \n",
            "  inflating: 247.jpeg                \n",
            "  inflating: 248.jpeg                \n",
            "  inflating: 249.jpeg                \n",
            "  inflating: 25.jpeg                 \n",
            "  inflating: 250.jpeg                \n",
            "  inflating: 251.jpeg                \n",
            "  inflating: 252.jpeg                \n",
            "  inflating: 253.jpeg                \n",
            "  inflating: 254.jpeg                \n",
            "  inflating: 255.jpeg                \n",
            "  inflating: 256.jpeg                \n",
            "  inflating: 257.jpeg                \n",
            "  inflating: 258.jpeg                \n",
            "  inflating: 259.jpeg                \n",
            "  inflating: 26.jpeg                 \n",
            "  inflating: 260.jpeg                \n",
            "  inflating: 261.jpeg                \n",
            "  inflating: 262.jpeg                \n",
            "  inflating: 263.jpeg                \n",
            "  inflating: 264.jpeg                \n",
            "  inflating: 265.jpeg                \n",
            "  inflating: 266.jpeg                \n",
            "  inflating: 267.jpeg                \n",
            "  inflating: 268.jpeg                \n",
            "  inflating: 269.jpeg                \n",
            "  inflating: 27.jpeg                 \n",
            "  inflating: 270.jpeg                \n",
            "  inflating: 271.jpeg                \n",
            "  inflating: 272.jpeg                \n",
            "  inflating: 273.jpeg                \n",
            "  inflating: 274.jpeg                \n",
            "  inflating: 275.jpeg                \n",
            "  inflating: 276.jpeg                \n",
            "  inflating: 277.jpeg                \n",
            "  inflating: 278.jpeg                \n",
            "  inflating: 279.jpeg                \n",
            "  inflating: 28.jpeg                 \n",
            "  inflating: 280.jpeg                \n",
            "  inflating: 281.jpeg                \n",
            "  inflating: 282.jpeg                \n",
            "  inflating: 283.jpeg                \n",
            "  inflating: 284.jpeg                \n",
            "  inflating: 285.jpeg                \n",
            "  inflating: 286.jpeg                \n",
            "  inflating: 287.jpeg                \n",
            "  inflating: 288.jpeg                \n",
            "  inflating: 289.jpeg                \n",
            "  inflating: 29.jpeg                 \n",
            "  inflating: 290.jpeg                \n",
            "  inflating: 291.jpeg                \n",
            "  inflating: 292.jpeg                \n",
            "  inflating: 293.jpeg                \n",
            "  inflating: 294.jpeg                \n",
            "  inflating: 295.jpeg                \n",
            "  inflating: 296.jpeg                \n",
            "  inflating: 297.jpeg                \n",
            "  inflating: 298.jpeg                \n",
            "  inflating: 299.jpeg                \n",
            "  inflating: 3.jpeg                  \n",
            "  inflating: 30.jpeg                 \n",
            "  inflating: 300.jpeg                \n",
            "  inflating: 301.jpeg                \n",
            "  inflating: 302.jpeg                \n",
            "  inflating: 303.jpeg                \n",
            "  inflating: 304.jpeg                \n",
            "  inflating: 305.jpeg                \n",
            "  inflating: 306.jpeg                \n",
            "  inflating: 307.jpeg                \n",
            "  inflating: 308.jpeg                \n",
            "  inflating: 309.jpeg                \n",
            "  inflating: 31.jpeg                 \n",
            "  inflating: 310.jpeg                \n",
            "  inflating: 311.jpeg                \n",
            "  inflating: 312.jpeg                \n",
            "  inflating: 313.jpeg                \n",
            "  inflating: 314.jpeg                \n",
            "  inflating: 315.jpeg                \n",
            "  inflating: 316.jpeg                \n",
            "  inflating: 317.jpeg                \n",
            "  inflating: 318.jpeg                \n",
            "  inflating: 319.jpeg                \n",
            "  inflating: 32.jpeg                 \n",
            "  inflating: 320.jpeg                \n",
            "  inflating: 321.jpeg                \n",
            "  inflating: 322.jpeg                \n",
            "  inflating: 323.jpeg                \n",
            "  inflating: 324.jpeg                \n",
            "  inflating: 325.jpeg                \n",
            "  inflating: 326.jpeg                \n",
            "  inflating: 327.jpeg                \n",
            "  inflating: 328.jpeg                \n",
            "  inflating: 329.jpeg                \n",
            "  inflating: 33.jpeg                 \n",
            "  inflating: 330.jpeg                \n",
            "  inflating: 331.jpeg                \n",
            "  inflating: 332.jpeg                \n",
            "  inflating: 333.jpeg                \n",
            "  inflating: 334.jpeg                \n",
            "  inflating: 335.jpeg                \n",
            "  inflating: 336.jpeg                \n",
            "  inflating: 337.jpeg                \n",
            "  inflating: 338.jpeg                \n",
            "  inflating: 339.jpeg                \n",
            "  inflating: 34.jpeg                 \n",
            "  inflating: 340.jpeg                \n",
            "  inflating: 341.jpeg                \n",
            "  inflating: 342.jpeg                \n",
            "  inflating: 343.jpeg                \n",
            "  inflating: 344.jpeg                \n",
            "  inflating: 345.jpeg                \n",
            "  inflating: 346.jpeg                \n",
            "  inflating: 347.jpeg                \n",
            "  inflating: 348.jpeg                \n",
            "  inflating: 349.jpeg                \n",
            "  inflating: 35.jpeg                 \n",
            "  inflating: 350.jpeg                \n",
            "  inflating: 351.jpeg                \n",
            "  inflating: 352.jpeg                \n",
            "  inflating: 353.jpeg                \n",
            "  inflating: 354.jpeg                \n",
            "  inflating: 355.jpeg                \n",
            "  inflating: 356.jpeg                \n",
            "  inflating: 357.jpeg                \n",
            "  inflating: 358.jpeg                \n",
            "  inflating: 359.jpeg                \n",
            "  inflating: 36.jpeg                 \n",
            "  inflating: 360.jpeg                \n",
            "  inflating: 361.jpeg                \n",
            "  inflating: 362.jpeg                \n",
            "  inflating: 363.jpeg                \n",
            "  inflating: 364.jpeg                \n",
            "  inflating: 365.jpeg                \n",
            "  inflating: 366.jpeg                \n",
            "  inflating: 367.jpeg                \n",
            "  inflating: 368.jpeg                \n",
            "  inflating: 369.jpeg                \n",
            "  inflating: 37.jpeg                 \n",
            "  inflating: 370.jpeg                \n",
            "  inflating: 371.jpeg                \n",
            "  inflating: 372.jpeg                \n",
            "  inflating: 373.jpeg                \n",
            "  inflating: 374.jpeg                \n",
            "  inflating: 375.jpeg                \n",
            "  inflating: 376.jpeg                \n",
            "  inflating: 377.jpeg                \n",
            "  inflating: 378.jpeg                \n",
            "  inflating: 379.jpeg                \n",
            "  inflating: 38.jpeg                 \n",
            "  inflating: 380.jpeg                \n",
            "  inflating: 381.jpeg                \n",
            "  inflating: 382.jpeg                \n",
            "  inflating: 383.jpeg                \n",
            "  inflating: 384.jpeg                \n",
            "  inflating: 385.jpeg                \n",
            "  inflating: 386.jpeg                \n",
            "  inflating: 387.jpeg                \n",
            "  inflating: 388.jpeg                \n",
            "  inflating: 389.jpeg                \n",
            "  inflating: 39.jpeg                 \n",
            "  inflating: 390.jpeg                \n",
            "  inflating: 391.jpeg                \n",
            "  inflating: 392.jpeg                \n",
            "  inflating: 393.jpeg                \n",
            "  inflating: 394.jpeg                \n",
            "  inflating: 395.jpeg                \n",
            "  inflating: 396.jpeg                \n",
            "  inflating: 397.jpeg                \n",
            "  inflating: 398.jpeg                \n",
            "  inflating: 399.jpeg                \n",
            "  inflating: 4.jpeg                  \n",
            "  inflating: 40.jpeg                 \n",
            "  inflating: 400.jpeg                \n",
            "  inflating: 401.jpeg                \n",
            "  inflating: 402.jpeg                \n",
            "  inflating: 403.jpeg                \n",
            "  inflating: 404.jpeg                \n",
            "  inflating: 405.jpeg                \n",
            "  inflating: 406.jpeg                \n",
            "  inflating: 407.jpeg                \n",
            "  inflating: 408.jpeg                \n",
            "  inflating: 409.jpeg                \n",
            "  inflating: 41.jpeg                 \n",
            "  inflating: 410.jpeg                \n",
            "  inflating: 411.jpeg                \n",
            "  inflating: 412.jpeg                \n",
            "  inflating: 413.jpeg                \n",
            "  inflating: 414.jpeg                \n",
            "  inflating: 415.jpeg                \n",
            "  inflating: 416.jpeg                \n",
            "  inflating: 417.jpeg                \n",
            "  inflating: 418.jpeg                \n",
            "  inflating: 419.jpeg                \n",
            "  inflating: 42.jpeg                 \n",
            "  inflating: 420.jpeg                \n",
            "  inflating: 421.jpeg                \n",
            "  inflating: 422.jpeg                \n",
            "  inflating: 423.jpeg                \n",
            "  inflating: 424.jpeg                \n",
            "  inflating: 425.jpeg                \n",
            "  inflating: 426.jpeg                \n",
            "  inflating: 427.jpeg                \n",
            "  inflating: 428.jpeg                \n",
            "  inflating: 429.jpeg                \n",
            "  inflating: 43.jpeg                 \n",
            "  inflating: 430.jpeg                \n",
            "  inflating: 431.jpeg                \n",
            "  inflating: 432.jpeg                \n",
            "  inflating: 433.jpeg                \n",
            "  inflating: 434.jpeg                \n",
            "  inflating: 435.jpeg                \n",
            "  inflating: 436.jpeg                \n",
            "  inflating: 437.jpeg                \n",
            "  inflating: 438.jpeg                \n",
            "  inflating: 439.jpeg                \n",
            "  inflating: 44.jpeg                 \n",
            "  inflating: 440.jpeg                \n",
            "  inflating: 441.jpeg                \n",
            "  inflating: 442.jpeg                \n",
            "  inflating: 443.jpeg                \n",
            "  inflating: 444.jpeg                \n",
            "  inflating: 445.jpeg                \n",
            "  inflating: 446.jpeg                \n",
            "  inflating: 447.jpeg                \n",
            "  inflating: 448.jpeg                \n",
            "  inflating: 449.jpeg                \n",
            "  inflating: 45.jpeg                 \n",
            "  inflating: 450.jpeg                \n",
            "  inflating: 451.jpeg                \n",
            "  inflating: 452.jpeg                \n",
            "  inflating: 453.jpeg                \n",
            "  inflating: 454.jpeg                \n",
            "  inflating: 455.jpeg                \n",
            "  inflating: 456.jpeg                \n",
            "  inflating: 457.jpeg                \n",
            "  inflating: 458.jpeg                \n",
            "  inflating: 459.jpeg                \n",
            "  inflating: 46.jpeg                 \n",
            "  inflating: 460.jpeg                \n",
            "  inflating: 461.jpeg                \n",
            "  inflating: 462.jpeg                \n",
            "  inflating: 463.jpeg                \n",
            "  inflating: 464.jpeg                \n",
            "  inflating: 465.jpeg                \n",
            "  inflating: 466.jpeg                \n",
            "  inflating: 467.jpeg                \n",
            "  inflating: 468.jpeg                \n",
            "  inflating: 469.jpeg                \n",
            "  inflating: 47.jpeg                 \n",
            "  inflating: 470.jpeg                \n",
            "  inflating: 471.jpeg                \n",
            "  inflating: 472.jpeg                \n",
            "  inflating: 473.jpeg                \n",
            "  inflating: 474.jpeg                \n",
            "  inflating: 475.jpeg                \n",
            "  inflating: 476.jpeg                \n",
            "  inflating: 477.jpeg                \n",
            "  inflating: 478.jpeg                \n",
            "  inflating: 479.jpeg                \n",
            "  inflating: 48.jpeg                 \n",
            "  inflating: 480.jpeg                \n",
            "  inflating: 481.jpeg                \n",
            "  inflating: 482.jpeg                \n",
            "  inflating: 483.jpeg                \n",
            "  inflating: 484.jpeg                \n",
            "  inflating: 485.jpeg                \n",
            "  inflating: 486.jpeg                \n",
            "  inflating: 487.jpeg                \n",
            "  inflating: 488.jpeg                \n",
            "  inflating: 489.jpeg                \n",
            "  inflating: 49.jpeg                 \n",
            "  inflating: 490.jpeg                \n",
            "  inflating: 491.jpeg                \n",
            "  inflating: 492.jpeg                \n",
            "  inflating: 493.jpeg                \n",
            "  inflating: 494.jpeg                \n",
            "  inflating: 495.jpeg                \n",
            "  inflating: 496.jpeg                \n",
            "  inflating: 497.jpeg                \n",
            "  inflating: 498.jpeg                \n",
            "  inflating: 499.jpeg                \n",
            "  inflating: 5.jpeg                  \n",
            "  inflating: 50.jpeg                 \n",
            "  inflating: 500.jpeg                \n",
            "  inflating: 501.jpeg                \n",
            "  inflating: 502.jpeg                \n",
            "  inflating: 503.jpeg                \n",
            "  inflating: 504.jpeg                \n",
            "  inflating: 505.jpeg                \n",
            "  inflating: 506.jpeg                \n",
            "  inflating: 507.jpeg                \n",
            "  inflating: 508.jpeg                \n",
            "  inflating: 509.jpeg                \n",
            "  inflating: 51.jpeg                 \n",
            "  inflating: 510.jpeg                \n",
            "  inflating: 511.jpeg                \n",
            "  inflating: 512.jpeg                \n",
            "  inflating: 513.jpeg                \n",
            "  inflating: 514.jpeg                \n",
            "  inflating: 515.jpeg                \n",
            "  inflating: 516.jpeg                \n",
            "  inflating: 517.jpeg                \n",
            "  inflating: 518.jpeg                \n",
            "  inflating: 519.jpeg                \n",
            "  inflating: 52.jpeg                 \n",
            "  inflating: 520.jpeg                \n",
            "  inflating: 521.jpeg                \n",
            "  inflating: 522.jpeg                \n",
            "  inflating: 523.jpeg                \n",
            "  inflating: 524.jpeg                \n",
            "  inflating: 525.jpeg                \n",
            "  inflating: 526.jpeg                \n",
            "  inflating: 527.jpeg                \n",
            "  inflating: 528.jpeg                \n",
            "  inflating: 529.jpeg                \n",
            "  inflating: 53.jpeg                 \n",
            "  inflating: 530.jpeg                \n",
            "  inflating: 531.jpeg                \n",
            "  inflating: 532.jpeg                \n",
            "  inflating: 533.jpeg                \n",
            "  inflating: 534.jpeg                \n",
            "  inflating: 535.jpeg                \n",
            "  inflating: 536.jpeg                \n",
            "  inflating: 537.jpeg                \n",
            "  inflating: 538.jpeg                \n",
            "  inflating: 539.jpeg                \n",
            "  inflating: 54.jpeg                 \n",
            "  inflating: 540.jpeg                \n",
            "  inflating: 541.jpeg                \n",
            "  inflating: 542.jpeg                \n",
            "  inflating: 543.jpeg                \n",
            "  inflating: 544.jpeg                \n",
            "  inflating: 545.jpeg                \n",
            "  inflating: 546.jpeg                \n",
            "  inflating: 547.jpeg                \n",
            "  inflating: 548.jpeg                \n",
            "  inflating: 549.jpeg                \n",
            "  inflating: 55.jpeg                 \n",
            "  inflating: 550.jpeg                \n",
            "  inflating: 551.jpeg                \n",
            "  inflating: 552.jpeg                \n",
            "  inflating: 553.jpeg                \n",
            "  inflating: 554.jpeg                \n",
            "  inflating: 555.jpeg                \n",
            "  inflating: 556.jpeg                \n",
            "  inflating: 557.jpeg                \n",
            "  inflating: 558.jpeg                \n",
            "  inflating: 559.jpeg                \n",
            "  inflating: 56.jpeg                 \n",
            "  inflating: 560.jpeg                \n",
            "  inflating: 561.jpeg                \n",
            "  inflating: 562.jpeg                \n",
            "  inflating: 563.jpeg                \n",
            "  inflating: 564.jpeg                \n",
            "  inflating: 565.jpeg                \n",
            "  inflating: 566.jpeg                \n",
            "  inflating: 567.jpeg                \n",
            "  inflating: 568.jpeg                \n",
            "  inflating: 569.jpeg                \n",
            "  inflating: 57.jpeg                 \n",
            "  inflating: 570.jpeg                \n",
            "  inflating: 571.jpeg                \n",
            "  inflating: 572.jpeg                \n",
            "  inflating: 573.jpeg                \n",
            "  inflating: 574.jpeg                \n",
            "  inflating: 575.jpeg                \n",
            "  inflating: 576.jpeg                \n",
            "  inflating: 577.jpeg                \n",
            "  inflating: 578.jpeg                \n",
            "  inflating: 579.jpeg                \n",
            "  inflating: 58.jpeg                 \n",
            "  inflating: 580.jpeg                \n",
            "  inflating: 581.jpeg                \n",
            "  inflating: 582.jpeg                \n",
            "  inflating: 583.jpeg                \n",
            "  inflating: 584.jpeg                \n",
            "  inflating: 585.jpeg                \n",
            "  inflating: 586.jpeg                \n",
            "  inflating: 587.jpeg                \n",
            "  inflating: 588.jpeg                \n",
            "  inflating: 589.jpeg                \n",
            "  inflating: 59.jpeg                 \n",
            "  inflating: 590.jpeg                \n",
            "  inflating: 591.jpeg                \n",
            "  inflating: 592.jpeg                \n",
            "  inflating: 593.jpeg                \n",
            "  inflating: 594.jpeg                \n",
            "  inflating: 595.jpeg                \n",
            "  inflating: 596.jpeg                \n",
            "  inflating: 597.jpeg                \n",
            "  inflating: 598.jpeg                \n",
            "  inflating: 599.jpeg                \n",
            "  inflating: 6.jpeg                  \n",
            "  inflating: 60.jpeg                 \n",
            "  inflating: 600.jpeg                \n",
            "  inflating: 601.jpeg                \n",
            "  inflating: 602.jpeg                \n",
            "  inflating: 603.jpeg                \n",
            "  inflating: 604.jpeg                \n",
            "  inflating: 605.jpeg                \n",
            "  inflating: 606.jpeg                \n",
            "  inflating: 607.jpeg                \n",
            "  inflating: 608.jpeg                \n",
            "  inflating: 609.jpeg                \n",
            "  inflating: 61.jpeg                 \n",
            "  inflating: 610.jpeg                \n",
            "  inflating: 611.jpeg                \n",
            "  inflating: 612.jpeg                \n",
            "  inflating: 613.jpeg                \n",
            "  inflating: 614.jpeg                \n",
            "  inflating: 615.jpeg                \n",
            "  inflating: 616.jpeg                \n",
            "  inflating: 617.jpeg                \n",
            "  inflating: 618.jpeg                \n",
            "  inflating: 619.jpeg                \n",
            "  inflating: 62.jpeg                 \n",
            "  inflating: 620.jpeg                \n",
            "  inflating: 621.jpeg                \n",
            "  inflating: 622.jpeg                \n",
            "  inflating: 623.jpeg                \n",
            "  inflating: 624.jpeg                \n",
            "  inflating: 625.jpeg                \n",
            "  inflating: 626.jpeg                \n",
            "  inflating: 627.jpeg                \n",
            "  inflating: 628.jpeg                \n",
            "  inflating: 629.jpeg                \n",
            "  inflating: 63.jpeg                 \n",
            "  inflating: 630.jpeg                \n",
            "  inflating: 631.jpeg                \n",
            "  inflating: 632.jpeg                \n",
            "  inflating: 64.jpeg                 \n",
            "  inflating: 65.jpeg                 \n",
            "  inflating: 66.jpeg                 \n",
            "  inflating: 67.jpeg                 \n",
            "  inflating: 68.jpeg                 \n",
            "  inflating: 69.jpeg                 \n",
            "  inflating: 7.jpeg                  \n",
            "  inflating: 70.jpeg                 \n",
            "  inflating: 71.jpeg                 \n",
            "  inflating: 72.jpeg                 \n",
            "  inflating: 73.jpeg                 \n",
            "  inflating: 74.jpeg                 \n",
            "  inflating: 75.jpeg                 \n",
            "  inflating: 76.jpeg                 \n",
            "  inflating: 77.jpeg                 \n",
            "  inflating: 78.jpeg                 \n",
            "  inflating: 79.jpeg                 \n",
            "  inflating: 8.jpeg                  \n",
            "  inflating: 80.jpeg                 \n",
            "  inflating: 81.jpeg                 \n",
            "  inflating: 82.jpeg                 \n",
            "  inflating: 83.jpeg                 \n",
            "  inflating: 84.jpeg                 \n",
            "  inflating: 85.jpeg                 \n",
            "  inflating: 86.jpeg                 \n",
            "  inflating: 87.jpeg                 \n",
            "  inflating: 88.jpeg                 \n",
            "  inflating: 89.jpeg                 \n",
            "  inflating: 9.jpeg                  \n",
            "  inflating: 90.jpeg                 \n",
            "  inflating: 91.jpeg                 \n",
            "  inflating: 92.jpeg                 \n",
            "  inflating: 93.jpeg                 \n",
            "  inflating: 94.jpeg                 \n",
            "  inflating: 95.jpeg                 \n",
            "  inflating: 96.jpeg                 \n",
            "  inflating: 97.jpeg                 \n",
            "  inflating: 98.jpeg                 \n",
            "  inflating: 99.jpeg                 \n"
          ],
          "name": "stdout"
        }
      ]
    },
    {
      "cell_type": "code",
      "metadata": {
        "id": "RddqB0faOAO7",
        "colab_type": "code",
        "colab": {}
      },
      "source": [
        "rm images.zip"
      ],
      "execution_count": 0,
      "outputs": []
    },
    {
      "cell_type": "code",
      "metadata": {
        "id": "Cl8JYev_5Pf0",
        "colab_type": "code",
        "colab": {
          "base_uri": "https://localhost:8080/",
          "height": 34
        },
        "outputId": "9ece7761-7bca-459a-d96a-c47c1f9f8aad"
      },
      "source": [
        "cd .."
      ],
      "execution_count": 35,
      "outputs": [
        {
          "output_type": "stream",
          "text": [
            "/content\n"
          ],
          "name": "stdout"
        }
      ]
    },
    {
      "cell_type": "code",
      "metadata": {
        "id": "jtAKGTs4D4_F",
        "colab_type": "code",
        "colab": {}
      },
      "source": [
        "import os \n",
        "import keras\n",
        "import numpy as np\n",
        "import matplotlib.pyplot as plt\n",
        "from keras.preprocessing import image\n",
        "from keras.applications.imagenet_utils import decode_predictions, preprocess_input\n",
        "from keras.models import Model\n",
        "from PIL import Image\n",
        "\n",
        "import random\n",
        "from scipy.spatial import distance"
      ],
      "execution_count": 0,
      "outputs": []
    },
    {
      "cell_type": "code",
      "metadata": {
        "id": "NVu7FV3WnBgz",
        "colab_type": "code",
        "colab": {}
      },
      "source": [
        "model = keras.applications.VGG16(weights='imagenet', include_top=True)"
      ],
      "execution_count": 0,
      "outputs": []
    },
    {
      "cell_type": "code",
      "metadata": {
        "id": "U8BU3mPQnr91",
        "colab_type": "code",
        "colab": {
          "base_uri": "https://localhost:8080/",
          "height": 918
        },
        "outputId": "6575239e-1826-41cd-c536-dedaa38b87e2"
      },
      "source": [
        "model.summary()"
      ],
      "execution_count": 38,
      "outputs": [
        {
          "output_type": "stream",
          "text": [
            "_________________________________________________________________\n",
            "Layer (type)                 Output Shape              Param #   \n",
            "=================================================================\n",
            "input_3 (InputLayer)         (None, 224, 224, 3)       0         \n",
            "_________________________________________________________________\n",
            "block1_conv1 (Conv2D)        (None, 224, 224, 64)      1792      \n",
            "_________________________________________________________________\n",
            "block1_conv2 (Conv2D)        (None, 224, 224, 64)      36928     \n",
            "_________________________________________________________________\n",
            "block1_pool (MaxPooling2D)   (None, 112, 112, 64)      0         \n",
            "_________________________________________________________________\n",
            "block2_conv1 (Conv2D)        (None, 112, 112, 128)     73856     \n",
            "_________________________________________________________________\n",
            "block2_conv2 (Conv2D)        (None, 112, 112, 128)     147584    \n",
            "_________________________________________________________________\n",
            "block2_pool (MaxPooling2D)   (None, 56, 56, 128)       0         \n",
            "_________________________________________________________________\n",
            "block3_conv1 (Conv2D)        (None, 56, 56, 256)       295168    \n",
            "_________________________________________________________________\n",
            "block3_conv2 (Conv2D)        (None, 56, 56, 256)       590080    \n",
            "_________________________________________________________________\n",
            "block3_conv3 (Conv2D)        (None, 56, 56, 256)       590080    \n",
            "_________________________________________________________________\n",
            "block3_pool (MaxPooling2D)   (None, 28, 28, 256)       0         \n",
            "_________________________________________________________________\n",
            "block4_conv1 (Conv2D)        (None, 28, 28, 512)       1180160   \n",
            "_________________________________________________________________\n",
            "block4_conv2 (Conv2D)        (None, 28, 28, 512)       2359808   \n",
            "_________________________________________________________________\n",
            "block4_conv3 (Conv2D)        (None, 28, 28, 512)       2359808   \n",
            "_________________________________________________________________\n",
            "block4_pool (MaxPooling2D)   (None, 14, 14, 512)       0         \n",
            "_________________________________________________________________\n",
            "block5_conv1 (Conv2D)        (None, 14, 14, 512)       2359808   \n",
            "_________________________________________________________________\n",
            "block5_conv2 (Conv2D)        (None, 14, 14, 512)       2359808   \n",
            "_________________________________________________________________\n",
            "block5_conv3 (Conv2D)        (None, 14, 14, 512)       2359808   \n",
            "_________________________________________________________________\n",
            "block5_pool (MaxPooling2D)   (None, 7, 7, 512)         0         \n",
            "_________________________________________________________________\n",
            "flatten (Flatten)            (None, 25088)             0         \n",
            "_________________________________________________________________\n",
            "fc1 (Dense)                  (None, 4096)              102764544 \n",
            "_________________________________________________________________\n",
            "fc2 (Dense)                  (None, 4096)              16781312  \n",
            "_________________________________________________________________\n",
            "predictions (Dense)          (None, 1000)              4097000   \n",
            "=================================================================\n",
            "Total params: 138,357,544\n",
            "Trainable params: 138,357,544\n",
            "Non-trainable params: 0\n",
            "_________________________________________________________________\n"
          ],
          "name": "stdout"
        }
      ]
    },
    {
      "cell_type": "code",
      "metadata": {
        "id": "AUA7zBSPnv0k",
        "colab_type": "code",
        "colab": {}
      },
      "source": [
        "def load_image(path):\n",
        "  img = image.load_img(path, target_size=model.input_shape[1:3])\n",
        "  x = image.img_to_array(img)\n",
        "  x = np.expand_dims(x, axis=0)\n",
        "  x = preprocess_input(x)\n",
        "  return img, x"
      ],
      "execution_count": 0,
      "outputs": []
    },
    {
      "cell_type": "code",
      "metadata": {
        "id": "W9bYH290osKZ",
        "colab_type": "code",
        "colab": {
          "base_uri": "https://localhost:8080/",
          "height": 320
        },
        "outputId": "8023b306-eb9d-4929-ecc8-e6111b63bbc8"
      },
      "source": [
        "img, x = load_image(\"images/0.jpeg\")\n",
        "print(\"shape of x: \", x.shape)\n",
        "print(\"data type: \", x.dtype)\n",
        "plt.imshow(img)"
      ],
      "execution_count": 40,
      "outputs": [
        {
          "output_type": "stream",
          "text": [
            "shape of x:  (1, 224, 224, 3)\n",
            "data type:  float32\n"
          ],
          "name": "stdout"
        },
        {
          "output_type": "execute_result",
          "data": {
            "text/plain": [
              "<matplotlib.image.AxesImage at 0x7f8b91473e80>"
            ]
          },
          "metadata": {
            "tags": []
          },
          "execution_count": 40
        },
        {
          "output_type": "display_data",
          "data": {
            "image/png": "[encoded data removed]",
            "text/plain": [
              "<Figure size 432x288 with 1 Axes>"
            ]
          },
          "metadata": {
            "tags": []
          }
        }
      ]
    },
    {
      "cell_type": "code",
      "metadata": {
        "id": "Vnd0aDQgo6GJ",
        "colab_type": "code",
        "colab": {
          "base_uri": "https://localhost:8080/",
          "height": 102
        },
        "outputId": "aa8796e0-9ac7-4dd5-d501-5bd2c915ffdd"
      },
      "source": [
        "predictions = model.predict(x)\n",
        "for _, pred, prob in decode_predictions(predictions)[0]:\n",
        "  print(\"predicted %s with a probabilty of %0.3f\" % (pred, prob))"
      ],
      "execution_count": 41,
      "outputs": [
        {
          "output_type": "stream",
          "text": [
            "predicted castle with a probabilty of 0.156\n",
            "predicted church with a probabilty of 0.128\n",
            "predicted beacon with a probabilty of 0.105\n",
            "predicted bell_cote with a probabilty of 0.079\n",
            "predicted monastery with a probabilty of 0.062\n"
          ],
          "name": "stdout"
        }
      ]
    },
    {
      "cell_type": "code",
      "metadata": {
        "id": "e1PCYnQXqRW8",
        "colab_type": "code",
        "colab": {
          "base_uri": "https://localhost:8080/",
          "height": 884
        },
        "outputId": "5de980f1-d813-473d-96e6-bf6c10d27b5f"
      },
      "source": [
        "feat_extractor = Model(inputs=model.input, outputs=model.get_layer(\"fc2\").output)\n",
        "feat_extractor.summary()"
      ],
      "execution_count": 42,
      "outputs": [
        {
          "output_type": "stream",
          "text": [
            "_________________________________________________________________\n",
            "Layer (type)                 Output Shape              Param #   \n",
            "=================================================================\n",
            "input_3 (InputLayer)         (None, 224, 224, 3)       0         \n",
            "_________________________________________________________________\n",
            "block1_conv1 (Conv2D)        (None, 224, 224, 64)      1792      \n",
            "_________________________________________________________________\n",
            "block1_conv2 (Conv2D)        (None, 224, 224, 64)      36928     \n",
            "_________________________________________________________________\n",
            "block1_pool (MaxPooling2D)   (None, 112, 112, 64)      0         \n",
            "_________________________________________________________________\n",
            "block2_conv1 (Conv2D)        (None, 112, 112, 128)     73856     \n",
            "_________________________________________________________________\n",
            "block2_conv2 (Conv2D)        (None, 112, 112, 128)     147584    \n",
            "_________________________________________________________________\n",
            "block2_pool (MaxPooling2D)   (None, 56, 56, 128)       0         \n",
            "_________________________________________________________________\n",
            "block3_conv1 (Conv2D)        (None, 56, 56, 256)       295168    \n",
            "_________________________________________________________________\n",
            "block3_conv2 (Conv2D)        (None, 56, 56, 256)       590080    \n",
            "_________________________________________________________________\n",
            "block3_conv3 (Conv2D)        (None, 56, 56, 256)       590080    \n",
            "_________________________________________________________________\n",
            "block3_pool (MaxPooling2D)   (None, 28, 28, 256)       0         \n",
            "_________________________________________________________________\n",
            "block4_conv1 (Conv2D)        (None, 28, 28, 512)       1180160   \n",
            "_________________________________________________________________\n",
            "block4_conv2 (Conv2D)        (None, 28, 28, 512)       2359808   \n",
            "_________________________________________________________________\n",
            "block4_conv3 (Conv2D)        (None, 28, 28, 512)       2359808   \n",
            "_________________________________________________________________\n",
            "block4_pool (MaxPooling2D)   (None, 14, 14, 512)       0         \n",
            "_________________________________________________________________\n",
            "block5_conv1 (Conv2D)        (None, 14, 14, 512)       2359808   \n",
            "_________________________________________________________________\n",
            "block5_conv2 (Conv2D)        (None, 14, 14, 512)       2359808   \n",
            "_________________________________________________________________\n",
            "block5_conv3 (Conv2D)        (None, 14, 14, 512)       2359808   \n",
            "_________________________________________________________________\n",
            "block5_pool (MaxPooling2D)   (None, 7, 7, 512)         0         \n",
            "_________________________________________________________________\n",
            "flatten (Flatten)            (None, 25088)             0         \n",
            "_________________________________________________________________\n",
            "fc1 (Dense)                  (None, 4096)              102764544 \n",
            "_________________________________________________________________\n",
            "fc2 (Dense)                  (None, 4096)              16781312  \n",
            "=================================================================\n",
            "Total params: 134,260,544\n",
            "Trainable params: 134,260,544\n",
            "Non-trainable params: 0\n",
            "_________________________________________________________________\n"
          ],
          "name": "stdout"
        }
      ]
    },
    {
      "cell_type": "code",
      "metadata": {
        "id": "ov3d3h8Bqg0o",
        "colab_type": "code",
        "colab": {
          "base_uri": "https://localhost:8080/",
          "height": 306
        },
        "outputId": "f1c7a948-5bd6-47ea-94f8-f0f6e5b2efea"
      },
      "source": [
        "img,x = load_image(\"images/0.jpeg\")\n",
        "feat = feat_extractor.predict(x)\n",
        "\n",
        "plt.figure(figsize=(16,4))\n",
        "plt.plot(feat[0])"
      ],
      "execution_count": 43,
      "outputs": [
        {
          "output_type": "execute_result",
          "data": {
            "text/plain": [
              "[<matplotlib.lines.Line2D at 0x7f8c703917b8>]"
            ]
          },
          "metadata": {
            "tags": []
          },
          "execution_count": 43
        },
        {
          "output_type": "display_data",
          "data": {
            "image/png": "[encoded data removed]",
            "text/plain": [
              "<Figure size 1152x288 with 1 Axes>"
            ]
          },
          "metadata": {
            "tags": []
          }
        }
      ]
    },
    {
      "cell_type": "code",
      "metadata": {
        "id": "xqy5Y34VsFLU",
        "colab_type": "code",
        "colab": {
          "base_uri": "https://localhost:8080/",
          "height": 54
        },
        "outputId": "07a3da23-b1fd-4c14-e5e4-4830d87305fc"
      },
      "source": [
        "path = \"images\"\n",
        "images = []\n",
        "\n",
        "for img in os.listdir(path):\n",
        "  img_path = os.path.join(path,img)\n",
        "  images.append(img_path)\n",
        "\n",
        "print(images)"
      ],
      "execution_count": 44,
      "outputs": [
        {
          "output_type": "stream",
          "text": [
            "['images/547.jpeg', 'images/589.jpeg', 'images/235.jpeg', 'images/330.jpeg', 'images/559.jpeg', 'images/356.jpeg', 'images/183.jpeg', 'images/62.jpeg', 'images/632.jpeg', 'images/484.jpeg', 'images/441.jpeg', 'images/58.jpeg', 'images/469.jpeg', 'images/192.jpeg', 'images/249.jpeg', 'images/334.jpeg', 'images/618.jpeg', 'images/601.jpeg', 'images/456.jpeg', 'images/133.jpeg', 'images/161.jpeg', 'images/103.jpeg', 'images/540.jpeg', 'images/499.jpeg', 'images/114.jpeg', 'images/421.jpeg', 'images/333.jpeg', 'images/93.jpeg', 'images/89.jpeg', 'images/414.jpeg', 'images/429.jpeg', 'images/261.jpeg', 'images/107.jpeg', 'images/313.jpeg', 'images/56.jpeg', 'images/97.jpeg', 'images/622.jpeg', 'images/432.jpeg', 'images/50.jpeg', 'images/33.jpeg', 'images/316.jpeg', 'images/541.jpeg', 'images/198.jpeg', 'images/47.jpeg', 'images/63.jpeg', 'images/263.jpeg', 'images/71.jpeg', 'images/463.jpeg', 'images/627.jpeg', 'images/573.jpeg', 'images/543.jpeg', 'images/418.jpeg', 'images/162.jpeg', 'images/444.jpeg', 'images/597.jpeg', 'images/369.jpeg', 'images/349.jpeg', 'images/449.jpeg', 'images/246.jpeg', 'images/166.jpeg', 'images/282.jpeg', 'images/320.jpeg', 'images/135.jpeg', 'images/486.jpeg', 'images/344.jpeg', 'images/102.jpeg', 'images/348.jpeg', 'images/445.jpeg', 'images/6.jpeg', 'images/157.jpeg', 'images/169.jpeg', 'images/611.jpeg', 'images/38.jpeg', 'images/66.jpeg', 'images/309.jpeg', 'images/76.jpeg', 'images/148.jpeg', 'images/306.jpeg', 'images/489.jpeg', 'images/360.jpeg', 'images/19.jpeg', 'images/383.jpeg', 'images/550.jpeg', 'images/96.jpeg', 'images/100.jpeg', 'images/145.jpeg', 'images/400.jpeg', 'images/180.jpeg', 'images/12.jpeg', 'images/408.jpeg', 'images/222.jpeg', 'images/426.jpeg', 'images/585.jpeg', 'images/223.jpeg', 'images/329.jpeg', 'images/54.jpeg', 'images/328.jpeg', 'images/120.jpeg', 'images/8.jpeg', 'images/110.jpeg', 'images/205.jpeg', 'images/440.jpeg', 'images/376.jpeg', 'images/74.jpeg', 'images/362.jpeg', 'images/287.jpeg', 'images/465.jpeg', 'images/576.jpeg', 'images/248.jpeg', 'images/619.jpeg', 'images/52.jpeg', 'images/512.jpeg', 'images/303.jpeg', 'images/2.jpeg', 'images/184.jpeg', 'images/126.jpeg', 'images/187.jpeg', 'images/182.jpeg', 'images/616.jpeg', 'images/269.jpeg', 'images/388.jpeg', 'images/217.jpeg', 'images/374.jpeg', 'images/104.jpeg', 'images/10.jpeg', 'images/407.jpeg', 'images/285.jpeg', 'images/73.jpeg', 'images/117.jpeg', 'images/427.jpeg', 'images/497.jpeg', 'images/566.jpeg', 'images/132.jpeg', 'images/366.jpeg', 'images/219.jpeg', 'images/239.jpeg', 'images/378.jpeg', 'images/411.jpeg', 'images/381.jpeg', 'images/420.jpeg', 'images/179.jpeg', 'images/335.jpeg', 'images/129.jpeg', 'images/203.jpeg', 'images/510.jpeg', 'images/283.jpeg', 'images/9.jpeg', 'images/55.jpeg', 'images/382.jpeg', 'images/32.jpeg', 'images/318.jpeg', 'images/554.jpeg', 'images/168.jpeg', 'images/324.jpeg', 'images/482.jpeg', 'images/186.jpeg', 'images/300.jpeg', 'images/390.jpeg', 'images/72.jpeg', 'images/501.jpeg', 'images/572.jpeg', 'images/35.jpeg', 'images/525.jpeg', 'images/326.jpeg', 'images/594.jpeg', 'images/528.jpeg', 'images/591.jpeg', 'images/237.jpeg', 'images/522.jpeg', 'images/308.jpeg', 'images/86.jpeg', 'images/115.jpeg', 'images/211.jpeg', 'images/491.jpeg', 'images/214.jpeg', 'images/105.jpeg', 'images/613.jpeg', 'images/296.jpeg', 'images/379.jpeg', 'images/68.jpeg', 'images/321.jpeg', 'images/136.jpeg', 'images/171.jpeg', 'images/551.jpeg', 'images/521.jpeg', 'images/563.jpeg', 'images/623.jpeg', 'images/80.jpeg', 'images/322.jpeg', 'images/524.jpeg', 'images/70.jpeg', 'images/43.jpeg', 'images/44.jpeg', 'images/194.jpeg', 'images/119.jpeg', 'images/448.jpeg', 'images/45.jpeg', 'images/608.jpeg', 'images/314.jpeg', 'images/505.jpeg', 'images/466.jpeg', 'images/18.jpeg', 'images/593.jpeg', 'images/570.jpeg', 'images/29.jpeg', 'images/588.jpeg', 'images/28.jpeg', 'images/424.jpeg', 'images/208.jpeg', 'images/457.jpeg', 'images/365.jpeg', 'images/310.jpeg', 'images/26.jpeg', 'images/586.jpeg', 'images/419.jpeg', 'images/476.jpeg', 'images/193.jpeg', 'images/272.jpeg', 'images/516.jpeg', 'images/359.jpeg', 'images/295.jpeg', 'images/394.jpeg', 'images/537.jpeg', 'images/624.jpeg', 'images/229.jpeg', 'images/123.jpeg', 'images/177.jpeg', 'images/434.jpeg', 'images/567.jpeg', 'images/64.jpeg', 'images/15.jpeg', 'images/508.jpeg', 'images/630.jpeg', 'images/49.jpeg', 'images/458.jpeg', 'images/83.jpeg', 'images/425.jpeg', 'images/288.jpeg', 'images/69.jpeg', 'images/274.jpeg', 'images/625.jpeg', 'images/155.jpeg', 'images/475.jpeg', 'images/595.jpeg', 'images/185.jpeg', 'images/480.jpeg', 'images/233.jpeg', 'images/500.jpeg', 'images/130.jpeg', 'images/367.jpeg', 'images/574.jpeg', 'images/178.jpeg', 'images/213.jpeg', 'images/207.jpeg', 'images/232.jpeg', 'images/565.jpeg', 'images/98.jpeg', 'images/152.jpeg', 'images/592.jpeg', 'images/13.jpeg', 'images/209.jpeg', 'images/131.jpeg', 'images/165.jpeg', 'images/94.jpeg', 'images/631.jpeg', 'images/373.jpeg', 'images/51.jpeg', 'images/544.jpeg', 'images/40.jpeg', 'images/301.jpeg', 'images/231.jpeg', 'images/555.jpeg', 'images/255.jpeg', 'images/393.jpeg', 'images/609.jpeg', 'images/281.jpeg', 'images/341.jpeg', 'images/181.jpeg', 'images/470.jpeg', 'images/190.jpeg', 'images/355.jpeg', 'images/81.jpeg', 'images/549.jpeg', 'images/241.jpeg', 'images/472.jpeg', 'images/542.jpeg', 'images/350.jpeg', 'images/336.jpeg', 'images/201.jpeg', 'images/197.jpeg', 'images/485.jpeg', 'images/431.jpeg', 'images/436.jpeg', 'images/153.jpeg', 'images/404.jpeg', 'images/312.jpeg', 'images/352.jpeg', 'images/473.jpeg', 'images/21.jpeg', 'images/30.jpeg', 'images/422.jpeg', 'images/600.jpeg', 'images/61.jpeg', 'images/520.jpeg', 'images/244.jpeg', 'images/124.jpeg', 'images/262.jpeg', 'images/125.jpeg', 'images/391.jpeg', 'images/423.jpeg', 'images/251.jpeg', 'images/46.jpeg', 'images/509.jpeg', 'images/538.jpeg', 'images/268.jpeg', 'images/442.jpeg', 'images/626.jpeg', 'images/495.jpeg', 'images/552.jpeg', 'images/150.jpeg', 'images/221.jpeg', 'images/236.jpeg', 'images/502.jpeg', 'images/406.jpeg', 'images/260.jpeg', 'images/238.jpeg', 'images/584.jpeg', 'images/370.jpeg', 'images/77.jpeg', 'images/111.jpeg', 'images/331.jpeg', 'images/562.jpeg', 'images/304.jpeg', 'images/252.jpeg', 'images/212.jpeg', 'images/339.jpeg', 'images/257.jpeg', 'images/474.jpeg', 'images/4.jpeg', 'images/575.jpeg', 'images/598.jpeg', 'images/583.jpeg', 'images/299.jpeg', 'images/109.jpeg', 'images/483.jpeg', 'images/545.jpeg', 'images/558.jpeg', 'images/351.jpeg', 'images/548.jpeg', 'images/270.jpeg', 'images/278.jpeg', 'images/31.jpeg', 'images/258.jpeg', 'images/101.jpeg', 'images/518.jpeg', 'images/556.jpeg', 'images/230.jpeg', 'images/78.jpeg', 'images/202.jpeg', 'images/216.jpeg', 'images/175.jpeg', 'images/557.jpeg', 'images/615.jpeg', 'images/581.jpeg', 'images/621.jpeg', 'images/498.jpeg', 'images/464.jpeg', 'images/206.jpeg', 'images/264.jpeg', 'images/438.jpeg', 'images/142.jpeg', 'images/363.jpeg', 'images/250.jpeg', 'images/265.jpeg', 'images/173.jpeg', 'images/401.jpeg', 'images/42.jpeg', 'images/138.jpeg', 'images/602.jpeg', 'images/254.jpeg', 'images/134.jpeg', 'images/539.jpeg', 'images/389.jpeg', 'images/385.jpeg', 'images/610.jpeg', 'images/534.jpeg', 'images/435.jpeg', 'images/259.jpeg', 'images/342.jpeg', 'images/311.jpeg', 'images/196.jpeg', 'images/227.jpeg', 'images/437.jpeg', 'images/200.jpeg', 'images/90.jpeg', 'images/127.jpeg', 'images/20.jpeg', 'images/587.jpeg', 'images/337.jpeg', 'images/614.jpeg', 'images/628.jpeg', 'images/487.jpeg', 'images/325.jpeg', 'images/113.jpeg', 'images/99.jpeg', 'images/471.jpeg', 'images/189.jpeg', 'images/79.jpeg', 'images/387.jpeg', 'images/452.jpeg', 'images/266.jpeg', 'images/347.jpeg', 'images/204.jpeg', 'images/604.jpeg', 'images/546.jpeg', 'images/490.jpeg', 'images/159.jpeg', 'images/23.jpeg', 'images/496.jpeg', 'images/144.jpeg', 'images/504.jpeg', 'images/507.jpeg', 'images/108.jpeg', 'images/243.jpeg', 'images/224.jpeg', 'images/59.jpeg', 'images/305.jpeg', 'images/95.jpeg', 'images/380.jpeg', 'images/234.jpeg', 'images/605.jpeg', 'images/48.jpeg', 'images/533.jpeg', 'images/599.jpeg', 'images/199.jpeg', 'images/517.jpeg', 'images/606.jpeg', 'images/402.jpeg', 'images/345.jpeg', 'images/65.jpeg', 'images/289.jpeg', 'images/492.jpeg', 'images/279.jpeg', 'images/116.jpeg', 'images/106.jpeg', 'images/629.jpeg', 'images/34.jpeg', 'images/364.jpeg', 'images/532.jpeg', 'images/220.jpeg', 'images/481.jpeg', 'images/413.jpeg', 'images/291.jpeg', 'images/307.jpeg', 'images/226.jpeg', 'images/415.jpeg', 'images/577.jpeg', 'images/386.jpeg', 'images/596.jpeg', 'images/620.jpeg', 'images/527.jpeg', 'images/590.jpeg', 'images/399.jpeg', 'images/37.jpeg', 'images/176.jpeg', 'images/128.jpeg', 'images/397.jpeg', 'images/195.jpeg', 'images/22.jpeg', 'images/375.jpeg', 'images/467.jpeg', 'images/319.jpeg', 'images/41.jpeg', 'images/75.jpeg', 'images/340.jpeg', 'images/462.jpeg', 'images/553.jpeg', 'images/428.jpeg', 'images/215.jpeg', 'images/276.jpeg', 'images/346.jpeg', 'images/459.jpeg', 'images/358.jpeg', 'images/561.jpeg', 'images/294.jpeg', 'images/582.jpeg', 'images/439.jpeg', 'images/82.jpeg', 'images/493.jpeg', 'images/253.jpeg', 'images/151.jpeg', 'images/446.jpeg', 'images/1.jpeg', 'images/412.jpeg', 'images/139.jpeg', 'images/88.jpeg', 'images/410.jpeg', 'images/398.jpeg', 'images/160.jpeg', 'images/361.jpeg', 'images/338.jpeg', 'images/170.jpeg', 'images/25.jpeg', 'images/523.jpeg', 'images/384.jpeg', 'images/240.jpeg', 'images/529.jpeg', 'images/511.jpeg', 'images/343.jpeg', 'images/24.jpeg', 'images/121.jpeg', 'images/67.jpeg', 'images/286.jpeg', 'images/357.jpeg', 'images/284.jpeg', 'images/453.jpeg', 'images/503.jpeg', 'images/317.jpeg', 'images/409.jpeg', 'images/267.jpeg', 'images/536.jpeg', 'images/112.jpeg', 'images/433.jpeg', 'images/430.jpeg', 'images/372.jpeg', 'images/479.jpeg', 'images/405.jpeg', 'images/60.jpeg', 'images/275.jpeg', 'images/84.jpeg', 'images/603.jpeg', 'images/396.jpeg', 'images/91.jpeg', 'images/122.jpeg', 'images/494.jpeg', 'images/568.jpeg', 'images/280.jpeg', 'images/210.jpeg', 'images/141.jpeg', 'images/515.jpeg', 'images/569.jpeg', 'images/395.jpeg', 'images/5.jpeg', 'images/302.jpeg', 'images/256.jpeg', 'images/513.jpeg', 'images/271.jpeg', 'images/531.jpeg', 'images/36.jpeg', 'images/468.jpeg', 'images/298.jpeg', 'images/0.jpeg', 'images/273.jpeg', 'images/392.jpeg', 'images/477.jpeg', 'images/57.jpeg', 'images/354.jpeg', 'images/228.jpeg', 'images/368.jpeg', 'images/277.jpeg', 'images/247.jpeg', 'images/143.jpeg', 'images/188.jpeg', 'images/14.jpeg', 'images/158.jpeg', 'images/612.jpeg', 'images/156.jpeg', 'images/519.jpeg', 'images/315.jpeg', 'images/245.jpeg', 'images/292.jpeg', 'images/164.jpeg', 'images/172.jpeg', 'images/39.jpeg', 'images/607.jpeg', 'images/137.jpeg', 'images/293.jpeg', 'images/353.jpeg', 'images/579.jpeg', 'images/154.jpeg', 'images/218.jpeg', 'images/290.jpeg', 'images/323.jpeg', 'images/140.jpeg', 'images/27.jpeg', 'images/530.jpeg', 'images/403.jpeg', 'images/242.jpeg', 'images/332.jpeg', 'images/416.jpeg', 'images/578.jpeg', 'images/3.jpeg', 'images/377.jpeg', 'images/163.jpeg', 'images/146.jpeg', 'images/571.jpeg', 'images/451.jpeg', 'images/7.jpeg', 'images/460.jpeg', 'images/191.jpeg', 'images/17.jpeg', 'images/371.jpeg', 'images/87.jpeg', 'images/450.jpeg', 'images/225.jpeg', 'images/514.jpeg', 'images/454.jpeg', 'images/53.jpeg', 'images/617.jpeg', 'images/580.jpeg', 'images/85.jpeg', 'images/535.jpeg', 'images/147.jpeg', 'images/488.jpeg', 'images/92.jpeg', 'images/118.jpeg', 'images/447.jpeg', 'images/461.jpeg', 'images/297.jpeg', 'images/417.jpeg', 'images/443.jpeg', 'images/455.jpeg', 'images/327.jpeg', 'images/564.jpeg', 'images/149.jpeg', 'images/560.jpeg', 'images/11.jpeg', 'images/167.jpeg', 'images/478.jpeg', 'images/526.jpeg', 'images/506.jpeg', 'images/16.jpeg', 'images/174.jpeg']\n"
          ],
          "name": "stdout"
        }
      ]
    },
    {
      "cell_type": "code",
      "metadata": {
        "id": "fx0ooNtd9iCE",
        "colab_type": "code",
        "colab": {}
      },
      "source": [
        "features = []\n",
        "\n",
        "for img in images:\n",
        "  img,x = load_image(img)\n",
        "  feat = feat_extractor.predict(x)[0]\n",
        "  features.append(feat)"
      ],
      "execution_count": 0,
      "outputs": []
    },
    {
      "cell_type": "code",
      "metadata": {
        "id": "pA5W9P98Uly0",
        "colab_type": "code",
        "colab": {
          "base_uri": "https://localhost:8080/",
          "height": 51
        },
        "outputId": "99368157-6d33-4c89-e441-9c1bf52dc857"
      },
      "source": [
        "from sklearn.decomposition import PCA\n",
        "\n",
        "features = np.array(features)\n",
        "pca = PCA(n_components=300)\n",
        "pca.fit(features)"
      ],
      "execution_count": 46,
      "outputs": [
        {
          "output_type": "execute_result",
          "data": {
            "text/plain": [
              "PCA(copy=True, iterated_power='auto', n_components=300, random_state=None,\n",
              "    svd_solver='auto', tol=0.0, whiten=False)"
            ]
          },
          "metadata": {
            "tags": []
          },
          "execution_count": 46
        }
      ]
    },
    {
      "cell_type": "code",
      "metadata": {
        "id": "U1059cm-U_h4",
        "colab_type": "code",
        "colab": {}
      },
      "source": [
        "pca_features = pca.transform(features)"
      ],
      "execution_count": 0,
      "outputs": []
    },
    {
      "cell_type": "code",
      "metadata": {
        "id": "hECYgO2Ey80o",
        "colab_type": "code",
        "colab": {}
      },
      "source": [
        "def select_image(img_bank):\n",
        "  \n",
        "  query_image_idx = int(len(img_bank) * random.random())\n",
        "  \n",
        "  img = image.load_img(img_bank[query_image_idx])\n",
        "  plt.imshow(img)\n",
        "  \n",
        "  return query_image_idx"
      ],
      "execution_count": 0,
      "outputs": []
    },
    {
      "cell_type": "code",
      "metadata": {
        "id": "krgDc97ezUCF",
        "colab_type": "code",
        "colab": {}
      },
      "source": [
        "def find_similar(idx, img_bank):\n",
        "  \n",
        "  similar_idx = [distance.cosine(pca_features[idx], feat) for feat in pca_features]\n",
        "  idx_closest = sorted(range(len(similar_idx)), key=lambda k: similar_idx[k])[1:6]\n",
        "  \n",
        "  thumbs = []\n",
        "  for i in idx_closest:\n",
        "    img = image.load_img(img_bank[i])\n",
        "    img.resize((int(img.width * 100 / img.height), 100))\n",
        "    thumbs.append(img)\n",
        "  \n",
        "  concat_image = np.concatenate([np.asarray(t) for t in thumbs], axis=1)\n",
        "\n",
        "\n",
        "  plt.figure(figsize = (16,12))\n",
        "  plt.imshow(concat_image)"
      ],
      "execution_count": 0,
      "outputs": []
    },
    {
      "cell_type": "code",
      "metadata": {
        "id": "toJ5ISIv0WCr",
        "colab_type": "code",
        "colab": {
          "base_uri": "https://localhost:8080/",
          "height": 502
        },
        "outputId": "fb608e4e-dce4-4172-df89-2d112012da7e"
      },
      "source": [
        "query = select_image(images)\n",
        "find_similar(query, images)"
      ],
      "execution_count": 58,
      "outputs": [
        {
          "output_type": "display_data",
          "data": {
            "image/png": "[encoded data removed]",
            "text/plain": [
              "<Figure size 432x288 with 1 Axes>"
            ]
          },
          "metadata": {
            "tags": []
          }
        },
        {
          "output_type": "display_data",
          "data": {
            "image/png": "[encoded data removed]",
            "text/plain": [
              "<Figure size 1152x864 with 1 Axes>"
            ]
          },
          "metadata": {
            "tags": []
          }
        }
      ]
    }
  ]
}